{
 "cells": [
  {
   "cell_type": "markdown",
   "metadata": {
    "id": "K9ILC73dI9G9"
   },
   "source": [
    "# Initialization"
   ]
  },
  {
   "cell_type": "markdown",
   "metadata": {
    "id": "is8dFihPJRmW"
   },
   "source": [
    "## Import Libraries"
   ]
  },
  {
   "cell_type": "code",
   "execution_count": 1,
   "metadata": {
    "ExecuteTime": {
     "end_time": "2021-12-14T04:12:34.506333Z",
     "start_time": "2021-12-14T04:12:33.486749Z"
    },
    "executionInfo": {
     "elapsed": 1256,
     "status": "ok",
     "timestamp": 1639339325481,
     "user": {
      "displayName": "Rifqi Luthfan",
      "photoUrl": "https://lh3.googleusercontent.com/a-/AOh14Gi6REDrzyVNDZl2VT9M3BzwlBYF_1Y_KHDREx_t=s64",
      "userId": "07442021322718158104"
     },
     "user_tz": 300
    },
    "id": "OYR89FOfI37J"
   },
   "outputs": [],
   "source": [
    "from __future__ import print_function\n",
    "import argparse\n",
    "import torch\n",
    "import torch.nn as nn\n",
    "import torch.nn.functional as F\n",
    "import torch.optim as optim\n",
    "import torchvision\n",
    "from torchvision import datasets, transforms\n"
   ]
  },
  {
   "cell_type": "code",
   "execution_count": 2,
   "metadata": {
    "ExecuteTime": {
     "end_time": "2021-12-14T04:12:34.511466Z",
     "start_time": "2021-12-14T04:12:34.508273Z"
    },
    "executionInfo": {
     "elapsed": 7,
     "status": "ok",
     "timestamp": 1639339325484,
     "user": {
      "displayName": "Rifqi Luthfan",
      "photoUrl": "https://lh3.googleusercontent.com/a-/AOh14Gi6REDrzyVNDZl2VT9M3BzwlBYF_1Y_KHDREx_t=s64",
      "userId": "07442021322718158104"
     },
     "user_tz": 300
    },
    "id": "PW9VU5jIJOeK"
   },
   "outputs": [],
   "source": [
    "from collections import namedtuple\n",
    "import tqdm"
   ]
  },
  {
   "cell_type": "code",
   "execution_count": 3,
   "metadata": {
    "ExecuteTime": {
     "end_time": "2021-12-14T04:12:35.106195Z",
     "start_time": "2021-12-14T04:12:34.512951Z"
    },
    "colab": {
     "base_uri": "https://localhost:8080/",
     "height": 36
    },
    "executionInfo": {
     "elapsed": 6,
     "status": "ok",
     "timestamp": 1639339325484,
     "user": {
      "displayName": "Rifqi Luthfan",
      "photoUrl": "https://lh3.googleusercontent.com/a-/AOh14Gi6REDrzyVNDZl2VT9M3BzwlBYF_1Y_KHDREx_t=s64",
      "userId": "07442021322718158104"
     },
     "user_tz": 300
    },
    "id": "EAFb1zouJO0h",
    "outputId": "4224118a-ac2f-4080-a8f1-190b7df4f375"
   },
   "outputs": [
    {
     "data": {
      "text/plain": [
       "'Tesla V100-SXM2-16GB'"
      ]
     },
     "execution_count": 3,
     "metadata": {},
     "output_type": "execute_result"
    }
   ],
   "source": [
    "# make sure GPU is being used \n",
    "torch.cuda.current_device() \n",
    "torch.cuda.device(0)\n",
    "torch.cuda.get_device_name(0)"
   ]
  },
  {
   "cell_type": "code",
   "execution_count": 4,
   "metadata": {
    "ExecuteTime": {
     "end_time": "2021-12-14T04:12:35.143250Z",
     "start_time": "2021-12-14T04:12:35.108534Z"
    }
   },
   "outputs": [],
   "source": [
    "# Notebook auto reloads code. (Ref: http://stackoverflow.com/questions/1907993/autoreload-of-modules-in-ipython)\n",
    "%load_ext autoreload\n",
    "%autoreload 2"
   ]
  },
  {
   "cell_type": "markdown",
   "metadata": {
    "id": "Jn0LWLskJToR"
   },
   "source": [
    "## Import Created Modules"
   ]
  },
  {
   "cell_type": "code",
   "execution_count": 5,
   "metadata": {
    "ExecuteTime": {
     "end_time": "2021-12-14T04:12:35.160805Z",
     "start_time": "2021-12-14T04:12:35.144761Z"
    },
    "id": "A9Df0-4YJV1H"
   },
   "outputs": [],
   "source": [
    "from quantization_functions import quant_aware_resnet_model\n",
    "from quantization_functions import post_training_quant_model\n",
    "from quantization_functions import train_loop"
   ]
  },
  {
   "cell_type": "markdown",
   "metadata": {
    "id": "AMMfGCwTLWsq"
   },
   "source": [
    "## Load Dataset"
   ]
  },
  {
   "cell_type": "code",
   "execution_count": 6,
   "metadata": {
    "ExecuteTime": {
     "end_time": "2021-12-14T04:12:35.176047Z",
     "start_time": "2021-12-14T04:12:35.162639Z"
    },
    "id": "b4-R5xIcLmdt"
   },
   "outputs": [],
   "source": [
    "BATCH_SIZE = 256\n",
    "TEST_BATCH_SIZE = 256\n",
    "N_CLASS = 10"
   ]
  },
  {
   "cell_type": "code",
   "execution_count": 7,
   "metadata": {
    "ExecuteTime": {
     "end_time": "2021-12-14T04:12:36.725995Z",
     "start_time": "2021-12-14T04:12:35.179121Z"
    },
    "colab": {
     "base_uri": "https://localhost:8080/"
    },
    "executionInfo": {
     "elapsed": 1962,
     "status": "ok",
     "timestamp": 1639008244643,
     "user": {
      "displayName": "Rifqi Luthfan",
      "photoUrl": "https://lh3.googleusercontent.com/a-/AOh14Gi6REDrzyVNDZl2VT9M3BzwlBYF_1Y_KHDREx_t=s64",
      "userId": "07442021322718158104"
     },
     "user_tz": 300
    },
    "id": "NOLdHAlGLWH-",
    "outputId": "5481f0d0-f207-474d-e7e7-2827e14233fa"
   },
   "outputs": [
    {
     "name": "stdout",
     "output_type": "stream",
     "text": [
      "Files already downloaded and verified\n",
      "Files already downloaded and verified\n"
     ]
    }
   ],
   "source": [
    "transform = transforms.Compose([\n",
    "    transforms.ToTensor(),\n",
    "    transforms.Normalize(\n",
    "        mean=[x / 255.0 for x in [125.3, 123.0, 113.9]],\n",
    "        std=[x / 255.0 for x in [63.0, 62.1, 66.7]],\n",
    "    )\n",
    "])\n",
    "    \n",
    "trainset = datasets.CIFAR10(root='./dataCifar', train=True, download=True, transform=transform)\n",
    "\n",
    "train_loader = torch.utils.data.DataLoader(trainset, batch_size=BATCH_SIZE, shuffle=True, num_workers=2)\n",
    "\n",
    "testset = datasets.CIFAR10(root='./dataCifar', train=False, download=True, transform=transform)\n",
    "\n",
    "test_loader = torch.utils.data.DataLoader(testset, batch_size=TEST_BATCH_SIZE, shuffle=False, num_workers=2)"
   ]
  },
  {
   "cell_type": "markdown",
   "metadata": {
    "id": "z378KmkPI8n2"
   },
   "source": [
    "# Resnet 18 Models"
   ]
  },
  {
   "cell_type": "code",
   "execution_count": 8,
   "metadata": {
    "ExecuteTime": {
     "end_time": "2021-12-14T04:12:36.755657Z",
     "start_time": "2021-12-14T04:12:36.733271Z"
    },
    "id": "EM6H0tupNLeT"
   },
   "outputs": [],
   "source": [
    "N_EPOCH = 10"
   ]
  },
  {
   "cell_type": "code",
   "execution_count": 9,
   "metadata": {
    "ExecuteTime": {
     "end_time": "2021-12-14T04:12:36.783646Z",
     "start_time": "2021-12-14T04:12:36.762662Z"
    }
   },
   "outputs": [],
   "source": [
    "SAVE_DIR = 'checkpoint/cifar10_resnet18'"
   ]
  },
  {
   "cell_type": "markdown",
   "metadata": {
    "id": "XxyL_hxTNL6j"
   },
   "source": [
    "## Base model"
   ]
  },
  {
   "cell_type": "code",
   "execution_count": 10,
   "metadata": {
    "ExecuteTime": {
     "end_time": "2021-12-14T03:17:50.968290Z",
     "start_time": "2021-12-14T03:17:50.768256Z"
    },
    "id": "Wfw_BQo0fhPF"
   },
   "outputs": [],
   "source": [
    "base_model = torchvision.models.resnet18(pretrained=True)\n",
    "base_model.fc = nn.Linear(base_model.fc.in_features, N_CLASS) # Change top layer"
   ]
  },
  {
   "cell_type": "code",
   "execution_count": 11,
   "metadata": {
    "ExecuteTime": {
     "end_time": "2021-12-14T03:21:42.346565Z",
     "start_time": "2021-12-14T03:17:52.328190Z"
    },
    "colab": {
     "background_save": true,
     "base_uri": "https://localhost:8080/"
    },
    "id": "_fFaNnSSNXwv",
    "outputId": "afc949b1-8e19-4233-cc01-2074798aa750"
   },
   "outputs": [
    {
     "name": "stderr",
     "output_type": "stream",
     "text": [
      "train - epoch:  0: : 196it [00:20,  9.60it/s, loss=0.93]                        \n",
      "val - epoch:  0: : 40it [00:02, 17.43it/s, val_loss=0.672, train_loss=0.93, acc=0.775]                      \n",
      "train - epoch:  1: : 196it [00:20,  9.46it/s, loss=0.49]                        \n",
      "val - epoch:  1: : 40it [00:02, 17.40it/s, val_loss=0.607, train_loss=0.49, acc=0.801]                      \n",
      "train - epoch:  2: : 196it [00:20,  9.80it/s, loss=0.336]                       \n",
      "val - epoch:  2: : 40it [00:02, 18.33it/s, val_loss=0.618, train_loss=0.336, acc=0.798]                      \n",
      "train - epoch:  3: : 196it [00:20,  9.73it/s, loss=0.225]                       \n",
      "val - epoch:  3: : 40it [00:02, 19.54it/s, val_loss=0.733, train_loss=0.225, acc=0.797]                      \n",
      "train - epoch:  4: : 196it [00:20,  9.73it/s, loss=0.172]                       \n",
      "val - epoch:  4: : 40it [00:02, 18.16it/s, val_loss=0.78, train_loss=0.172, acc=0.803]                       \n",
      "train - epoch:  5: : 196it [00:20,  9.47it/s, loss=0.131]                       \n",
      "val - epoch:  5: : 40it [00:02, 18.27it/s, val_loss=0.835, train_loss=0.131, acc=0.8]                        \n",
      "train - epoch:  6: : 196it [00:20,  9.60it/s, loss=0.104]                        \n",
      "val - epoch:  6: : 40it [00:02, 18.40it/s, val_loss=0.838, train_loss=0.104, acc=0.811]                      \n",
      "train - epoch:  7: : 196it [00:20,  9.61it/s, loss=0.0861]                       \n",
      "val - epoch:  7: : 40it [00:02, 17.18it/s, val_loss=0.925, train_loss=0.0861, acc=0.811]                      \n",
      "train - epoch:  8: : 196it [00:20,  9.63it/s, loss=0.0729]                       \n",
      "val - epoch:  8: : 40it [00:02, 18.71it/s, val_loss=0.924, train_loss=0.0729, acc=0.817]                      \n",
      "train - epoch:  9: : 196it [00:20,  9.61it/s, loss=0.0566]                       \n",
      "val - epoch:  9: : 40it [00:02, 18.23it/s, val_loss=1.01, train_loss=0.0566, acc=0.804]                       \n"
     ]
    }
   ],
   "source": [
    "### Train Loop\n",
    "criterion = nn.CrossEntropyLoss()\n",
    "optimizer = torch.optim.SGD(base_model.parameters(), 1e-2, momentum=0.9, weight_decay=1e-5)\n",
    "\n",
    "train_loop.train_model(\n",
    "    train_dl=train_loader, \n",
    "    val_dl=test_loader, \n",
    "    model=base_model, \n",
    "    optimizer=optimizer, \n",
    "    criterion=criterion,\n",
    "    clip_value=1e-2,\n",
    "    epochs=N_EPOCH, save=f\"{SAVE_DIR}/base_model\"\n",
    ")"
   ]
  },
  {
   "cell_type": "code",
   "execution_count": 12,
   "metadata": {
    "ExecuteTime": {
     "end_time": "2021-12-14T03:22:17.546650Z",
     "start_time": "2021-12-14T03:22:15.141772Z"
    },
    "colab": {
     "background_save": true
    },
    "id": "aJyLHCM8bBFH",
    "outputId": "a99eb48f-4de7-4dbd-9fda-3a610e181b24"
   },
   "outputs": [
    {
     "name": "stderr",
     "output_type": "stream",
     "text": [
      "100%|██████████| 40/40 [00:02<00:00, 16.83it/s, acc=0.804]"
     ]
    },
    {
     "name": "stdout",
     "output_type": "stream",
     "text": [
      "acc: 0.8039\n"
     ]
    },
    {
     "name": "stderr",
     "output_type": "stream",
     "text": [
      "\n"
     ]
    }
   ],
   "source": [
    "# Validation accuracy\n",
    "train_loop.test_model(test_loader, base_model)"
   ]
  },
  {
   "cell_type": "markdown",
   "metadata": {
    "id": "o8y6NZlHQYZH"
   },
   "source": [
    "## Post Training Quantization"
   ]
  },
  {
   "cell_type": "markdown",
   "metadata": {
    "id": "frTh5sWvmCXA"
   },
   "source": [
    "### 8 bit quantization"
   ]
  },
  {
   "cell_type": "code",
   "execution_count": 10,
   "metadata": {
    "ExecuteTime": {
     "end_time": "2021-12-14T03:22:51.094275Z",
     "start_time": "2021-12-14T03:22:48.498826Z"
    },
    "colab": {
     "base_uri": "https://localhost:8080/"
    },
    "executionInfo": {
     "elapsed": 276,
     "status": "ok",
     "timestamp": 1639008821078,
     "user": {
      "displayName": "Rifqi Luthfan",
      "photoUrl": "https://lh3.googleusercontent.com/a-/AOh14Gi6REDrzyVNDZl2VT9M3BzwlBYF_1Y_KHDREx_t=s64",
      "userId": "07442021322718158104"
     },
     "user_tz": 300
    },
    "id": "GL29AUmrR3Vf",
    "outputId": "edc37568-38c8-45df-94b2-88d16b092703"
   },
   "outputs": [
    {
     "name": "stdout",
     "output_type": "stream",
     "text": [
      "remained state dict odict_keys([])\n"
     ]
    }
   ],
   "source": [
    "# Convert base model to a custom quantization layer with the trained weights\n",
    "c_base_model = quant_aware_resnet_model.CResnet18(num_class=10, q_num_bit=8, qat=False,\n",
    "                                                  pretrained=f'{SAVE_DIR}/base_model/model_weights.pt')\n",
    "c_base_model.quantize(True)"
   ]
  },
  {
   "cell_type": "code",
   "execution_count": 11,
   "metadata": {
    "ExecuteTime": {
     "end_time": "2021-12-14T03:23:08.387818Z",
     "start_time": "2021-12-14T03:22:54.277432Z"
    },
    "colab": {
     "base_uri": "https://localhost:8080/"
    },
    "executionInfo": {
     "elapsed": 109704,
     "status": "ok",
     "timestamp": 1639008945820,
     "user": {
      "displayName": "Rifqi Luthfan",
      "photoUrl": "https://lh3.googleusercontent.com/a-/AOh14Gi6REDrzyVNDZl2VT9M3BzwlBYF_1Y_KHDREx_t=s64",
      "userId": "07442021322718158104"
     },
     "user_tz": 300
    },
    "id": "piIpEik6S1kR",
    "outputId": "a3441a92-e8a4-4dee-f98a-a7362d7495eb"
   },
   "outputs": [
    {
     "name": "stderr",
     "output_type": "stream",
     "text": [
      "100%|██████████| 196/196 [00:14<00:00, 13.92it/s, acc=0.895]"
     ]
    },
    {
     "name": "stdout",
     "output_type": "stream",
     "text": [
      "acc: 0.8953\n"
     ]
    },
    {
     "name": "stderr",
     "output_type": "stream",
     "text": [
      "\n"
     ]
    }
   ],
   "source": [
    "# Forward pass to have quantized weights\n",
    "train_loop.test_model(train_loader, c_base_model)"
   ]
  },
  {
   "cell_type": "code",
   "execution_count": 12,
   "metadata": {
    "ExecuteTime": {
     "end_time": "2021-12-14T03:23:12.931725Z",
     "start_time": "2021-12-14T03:23:12.887575Z"
    },
    "id": "aoISQcR-PuoY"
   },
   "outputs": [],
   "source": [
    "# Convert to quantized model\n",
    "q_base_model = post_training_quant_model.QResnet18(num_class=10)\n",
    "q_base_model.convert_from(c_base_model)"
   ]
  },
  {
   "cell_type": "code",
   "execution_count": 13,
   "metadata": {
    "ExecuteTime": {
     "end_time": "2021-12-14T03:23:17.933006Z",
     "start_time": "2021-12-14T03:23:14.206047Z"
    },
    "colab": {
     "base_uri": "https://localhost:8080/"
    },
    "executionInfo": {
     "elapsed": 6937,
     "status": "ok",
     "timestamp": 1639008967545,
     "user": {
      "displayName": "Rifqi Luthfan",
      "photoUrl": "https://lh3.googleusercontent.com/a-/AOh14Gi6REDrzyVNDZl2VT9M3BzwlBYF_1Y_KHDREx_t=s64",
      "userId": "07442021322718158104"
     },
     "user_tz": 300
    },
    "id": "K1vVMgjqQbUF",
    "outputId": "0b625bf7-9840-4e65-bef6-315fa33cca8e"
   },
   "outputs": [
    {
     "name": "stderr",
     "output_type": "stream",
     "text": [
      "100%|██████████| 40/40 [00:03<00:00, 10.81it/s, acc=0.797]"
     ]
    },
    {
     "name": "stdout",
     "output_type": "stream",
     "text": [
      "acc: 0.7968\n"
     ]
    },
    {
     "name": "stderr",
     "output_type": "stream",
     "text": [
      "\n"
     ]
    }
   ],
   "source": [
    "# Validation accuracy\n",
    "train_loop.test_model(test_loader, q_base_model)"
   ]
  },
  {
   "cell_type": "code",
   "execution_count": 15,
   "metadata": {
    "ExecuteTime": {
     "end_time": "2021-12-14T03:24:47.856767Z",
     "start_time": "2021-12-14T03:24:47.807000Z"
    }
   },
   "outputs": [],
   "source": [
    "with open(f'{SAVE_DIR}/ptq8bit_model_weights.pt', 'wb') as f:\n",
    "    torch.save(q_base_model.state_dict(), f)"
   ]
  },
  {
   "cell_type": "markdown",
   "metadata": {},
   "source": [
    "### 7-bit quantization"
   ]
  },
  {
   "cell_type": "code",
   "execution_count": 10,
   "metadata": {
    "ExecuteTime": {
     "end_time": "2021-12-14T03:25:16.350615Z",
     "start_time": "2021-12-14T03:25:13.828402Z"
    }
   },
   "outputs": [
    {
     "name": "stdout",
     "output_type": "stream",
     "text": [
      "remained state dict odict_keys([])\n"
     ]
    }
   ],
   "source": [
    "# Convert base model to a custom quantization layer with the trained weights\n",
    "c_base_model = quant_aware_resnet_model.CResnet18(num_class=10, q_num_bit=7, qat=False,\n",
    "                                                  pretrained=f'{SAVE_DIR}/base_model/model_weights.pt')\n",
    "c_base_model.quantize(True)"
   ]
  },
  {
   "cell_type": "code",
   "execution_count": 11,
   "metadata": {
    "ExecuteTime": {
     "end_time": "2021-12-14T03:25:30.586440Z",
     "start_time": "2021-12-14T03:25:17.178772Z"
    }
   },
   "outputs": [
    {
     "name": "stderr",
     "output_type": "stream",
     "text": [
      "100%|██████████| 196/196 [00:13<00:00, 14.65it/s, acc=0.895]"
     ]
    },
    {
     "name": "stdout",
     "output_type": "stream",
     "text": [
      "acc: 0.8953\n"
     ]
    },
    {
     "name": "stderr",
     "output_type": "stream",
     "text": [
      "\n"
     ]
    }
   ],
   "source": [
    "# Forward pass to have quantized weights\n",
    "train_loop.test_model(train_loader, c_base_model)"
   ]
  },
  {
   "cell_type": "code",
   "execution_count": 12,
   "metadata": {
    "ExecuteTime": {
     "end_time": "2021-12-14T03:25:37.035471Z",
     "start_time": "2021-12-14T03:25:36.988254Z"
    }
   },
   "outputs": [],
   "source": [
    "# Convert to quantized model\n",
    "q_base_model = post_training_quant_model.QResnet18(num_class=10)\n",
    "q_base_model.convert_from(c_base_model)"
   ]
  },
  {
   "cell_type": "code",
   "execution_count": 13,
   "metadata": {
    "ExecuteTime": {
     "end_time": "2021-12-14T03:25:42.153950Z",
     "start_time": "2021-12-14T03:25:38.338675Z"
    }
   },
   "outputs": [
    {
     "name": "stderr",
     "output_type": "stream",
     "text": [
      "100%|██████████| 40/40 [00:03<00:00, 10.56it/s, acc=0.793]"
     ]
    },
    {
     "name": "stdout",
     "output_type": "stream",
     "text": [
      "acc: 0.7926\n"
     ]
    },
    {
     "name": "stderr",
     "output_type": "stream",
     "text": [
      "\n"
     ]
    }
   ],
   "source": [
    "# Validation accuracy\n",
    "train_loop.test_model(test_loader, q_base_model)"
   ]
  },
  {
   "cell_type": "code",
   "execution_count": 14,
   "metadata": {
    "ExecuteTime": {
     "end_time": "2021-12-14T03:26:05.518597Z",
     "start_time": "2021-12-14T03:26:05.473017Z"
    }
   },
   "outputs": [],
   "source": [
    "with open(f'{SAVE_DIR}/ptq7bit_model_weights.pt', 'wb') as f:\n",
    "    torch.save(q_base_model.state_dict(), f)"
   ]
  },
  {
   "cell_type": "markdown",
   "metadata": {},
   "source": [
    "### 6-bit quantization"
   ]
  },
  {
   "cell_type": "code",
   "execution_count": 10,
   "metadata": {
    "ExecuteTime": {
     "end_time": "2021-12-14T03:27:32.923937Z",
     "start_time": "2021-12-14T03:27:30.393629Z"
    }
   },
   "outputs": [
    {
     "name": "stdout",
     "output_type": "stream",
     "text": [
      "remained state dict odict_keys([])\n"
     ]
    }
   ],
   "source": [
    "# Convert base model to a custom quantization layer with the trained weights\n",
    "c_base_model = quant_aware_resnet_model.CResnet18(num_class=10, q_num_bit=6, qat=False,\n",
    "                                                  pretrained=f'{SAVE_DIR}/base_model/model_weights.pt')\n",
    "c_base_model.quantize(True)"
   ]
  },
  {
   "cell_type": "code",
   "execution_count": 11,
   "metadata": {
    "ExecuteTime": {
     "end_time": "2021-12-14T03:27:48.111757Z",
     "start_time": "2021-12-14T03:27:34.027858Z"
    }
   },
   "outputs": [
    {
     "name": "stderr",
     "output_type": "stream",
     "text": [
      "100%|██████████| 196/196 [00:14<00:00, 13.95it/s, acc=0.895]"
     ]
    },
    {
     "name": "stdout",
     "output_type": "stream",
     "text": [
      "acc: 0.8953\n"
     ]
    },
    {
     "name": "stderr",
     "output_type": "stream",
     "text": [
      "\n"
     ]
    }
   ],
   "source": [
    "# Forward pass to have quantized weights\n",
    "train_loop.test_model(train_loader, c_base_model)"
   ]
  },
  {
   "cell_type": "code",
   "execution_count": 12,
   "metadata": {
    "ExecuteTime": {
     "end_time": "2021-12-14T03:27:48.157035Z",
     "start_time": "2021-12-14T03:27:48.115095Z"
    }
   },
   "outputs": [],
   "source": [
    "# Convert to quantized model\n",
    "q_base_model = post_training_quant_model.QResnet18(num_class=10)\n",
    "q_base_model.convert_from(c_base_model)"
   ]
  },
  {
   "cell_type": "code",
   "execution_count": 13,
   "metadata": {
    "ExecuteTime": {
     "end_time": "2021-12-14T03:27:53.863269Z",
     "start_time": "2021-12-14T03:27:49.888050Z"
    }
   },
   "outputs": [
    {
     "name": "stderr",
     "output_type": "stream",
     "text": [
      "100%|██████████| 40/40 [00:03<00:00, 10.13it/s, acc=0.754]"
     ]
    },
    {
     "name": "stdout",
     "output_type": "stream",
     "text": [
      "acc: 0.7539\n"
     ]
    },
    {
     "name": "stderr",
     "output_type": "stream",
     "text": [
      "\n"
     ]
    }
   ],
   "source": [
    "# Validation accuracy\n",
    "train_loop.test_model(test_loader, q_base_model)"
   ]
  },
  {
   "cell_type": "code",
   "execution_count": 14,
   "metadata": {
    "ExecuteTime": {
     "end_time": "2021-12-14T03:28:48.342331Z",
     "start_time": "2021-12-14T03:28:48.293833Z"
    }
   },
   "outputs": [],
   "source": [
    "with open(f'{SAVE_DIR}/ptq6bit_model_weights.pt', 'wb') as f:\n",
    "    torch.save(q_base_model.state_dict(), f)"
   ]
  },
  {
   "cell_type": "markdown",
   "metadata": {},
   "source": [
    "### 5-bit quantization"
   ]
  },
  {
   "cell_type": "code",
   "execution_count": 10,
   "metadata": {
    "ExecuteTime": {
     "end_time": "2021-12-14T03:29:25.874311Z",
     "start_time": "2021-12-14T03:29:23.308260Z"
    }
   },
   "outputs": [
    {
     "name": "stdout",
     "output_type": "stream",
     "text": [
      "remained state dict odict_keys([])\n"
     ]
    }
   ],
   "source": [
    "# Convert base model to a custom quantization layer with the trained weights\n",
    "c_base_model = quant_aware_resnet_model.CResnet18(num_class=10, q_num_bit=5, qat=False,\n",
    "                                                  pretrained=f'{SAVE_DIR}/base_model/model_weights.pt')\n",
    "c_base_model.quantize(True)"
   ]
  },
  {
   "cell_type": "code",
   "execution_count": 11,
   "metadata": {
    "ExecuteTime": {
     "end_time": "2021-12-14T03:29:40.301240Z",
     "start_time": "2021-12-14T03:29:25.877762Z"
    }
   },
   "outputs": [
    {
     "name": "stderr",
     "output_type": "stream",
     "text": [
      "100%|██████████| 196/196 [00:14<00:00, 13.62it/s, acc=0.895]"
     ]
    },
    {
     "name": "stdout",
     "output_type": "stream",
     "text": [
      "acc: 0.8953\n"
     ]
    },
    {
     "name": "stderr",
     "output_type": "stream",
     "text": [
      "\n"
     ]
    }
   ],
   "source": [
    "# Forward pass to have quantized weights\n",
    "train_loop.test_model(train_loader, c_base_model)"
   ]
  },
  {
   "cell_type": "code",
   "execution_count": 12,
   "metadata": {
    "ExecuteTime": {
     "end_time": "2021-12-14T03:29:40.345041Z",
     "start_time": "2021-12-14T03:29:40.303687Z"
    }
   },
   "outputs": [],
   "source": [
    "# Convert to quantized model\n",
    "q_base_model = post_training_quant_model.QResnet18(num_class=10)\n",
    "q_base_model.convert_from(c_base_model)"
   ]
  },
  {
   "cell_type": "code",
   "execution_count": 13,
   "metadata": {
    "ExecuteTime": {
     "end_time": "2021-12-14T03:29:50.140984Z",
     "start_time": "2021-12-14T03:29:46.456944Z"
    }
   },
   "outputs": [
    {
     "name": "stderr",
     "output_type": "stream",
     "text": [
      "100%|██████████| 40/40 [00:03<00:00, 10.94it/s, acc=0.515]"
     ]
    },
    {
     "name": "stdout",
     "output_type": "stream",
     "text": [
      "acc: 0.5153\n"
     ]
    },
    {
     "name": "stderr",
     "output_type": "stream",
     "text": [
      "\n"
     ]
    }
   ],
   "source": [
    "# Validation accuracy\n",
    "train_loop.test_model(test_loader, q_base_model)"
   ]
  },
  {
   "cell_type": "code",
   "execution_count": 14,
   "metadata": {
    "ExecuteTime": {
     "end_time": "2021-12-14T03:29:54.389211Z",
     "start_time": "2021-12-14T03:29:54.337563Z"
    }
   },
   "outputs": [],
   "source": [
    "with open(f'{SAVE_DIR}/ptq5bit_model_weights.pt', 'wb') as f:\n",
    "    torch.save(q_base_model.state_dict(), f)"
   ]
  },
  {
   "cell_type": "markdown",
   "metadata": {},
   "source": [
    "### 4-bit quantization"
   ]
  },
  {
   "cell_type": "code",
   "execution_count": 10,
   "metadata": {
    "ExecuteTime": {
     "end_time": "2021-12-14T03:31:11.064949Z",
     "start_time": "2021-12-14T03:31:08.497715Z"
    }
   },
   "outputs": [
    {
     "name": "stdout",
     "output_type": "stream",
     "text": [
      "remained state dict odict_keys([])\n"
     ]
    }
   ],
   "source": [
    "# Convert base model to a custom quantization layer with the trained weights\n",
    "c_base_model = quant_aware_resnet_model.CResnet18(num_class=10, q_num_bit=4, qat=False,\n",
    "                                                  pretrained=f'{SAVE_DIR}/base_model/model_weights.pt')\n",
    "c_base_model.quantize(True)"
   ]
  },
  {
   "cell_type": "code",
   "execution_count": 11,
   "metadata": {
    "ExecuteTime": {
     "end_time": "2021-12-14T03:31:33.094005Z",
     "start_time": "2021-12-14T03:31:18.692809Z"
    },
    "scrolled": false
   },
   "outputs": [
    {
     "name": "stderr",
     "output_type": "stream",
     "text": [
      "100%|██████████| 196/196 [00:14<00:00, 13.64it/s, acc=0.895]"
     ]
    },
    {
     "name": "stdout",
     "output_type": "stream",
     "text": [
      "acc: 0.8953\n"
     ]
    },
    {
     "name": "stderr",
     "output_type": "stream",
     "text": [
      "\n"
     ]
    }
   ],
   "source": [
    "# Forward pass to have quantized weights\n",
    "train_loop.test_model(train_loader, c_base_model)"
   ]
  },
  {
   "cell_type": "code",
   "execution_count": 12,
   "metadata": {
    "ExecuteTime": {
     "end_time": "2021-12-14T03:31:36.969923Z",
     "start_time": "2021-12-14T03:31:36.918647Z"
    }
   },
   "outputs": [],
   "source": [
    "# Convert to quantized model\n",
    "q_base_model = post_training_quant_model.QResnet18(num_class=10)\n",
    "q_base_model.convert_from(c_base_model)"
   ]
  },
  {
   "cell_type": "code",
   "execution_count": 13,
   "metadata": {
    "ExecuteTime": {
     "end_time": "2021-12-14T03:31:41.960059Z",
     "start_time": "2021-12-14T03:31:38.216672Z"
    },
    "scrolled": true
   },
   "outputs": [
    {
     "name": "stderr",
     "output_type": "stream",
     "text": [
      "100%|██████████| 40/40 [00:03<00:00, 10.76it/s, acc=0.134]"
     ]
    },
    {
     "name": "stdout",
     "output_type": "stream",
     "text": [
      "acc: 0.1336\n"
     ]
    },
    {
     "name": "stderr",
     "output_type": "stream",
     "text": [
      "\n"
     ]
    }
   ],
   "source": [
    "# Validation accuracy\n",
    "train_loop.test_model(test_loader, q_base_model)"
   ]
  },
  {
   "cell_type": "code",
   "execution_count": 14,
   "metadata": {
    "ExecuteTime": {
     "end_time": "2021-12-14T03:31:50.347394Z",
     "start_time": "2021-12-14T03:31:50.296787Z"
    }
   },
   "outputs": [],
   "source": [
    "with open(f'{SAVE_DIR}/ptq4bit_model_weights.pt', 'wb') as f:\n",
    "    torch.save(q_base_model.state_dict(), f)"
   ]
  },
  {
   "cell_type": "markdown",
   "metadata": {
    "id": "mmpG9_9PO8E5"
   },
   "source": [
    "## Quantization Aware Training"
   ]
  },
  {
   "cell_type": "markdown",
   "metadata": {
    "id": "4PRbWTsmmRhL"
   },
   "source": [
    "### 8-bit quantization"
   ]
  },
  {
   "cell_type": "code",
   "execution_count": 10,
   "metadata": {
    "ExecuteTime": {
     "end_time": "2021-12-14T03:34:38.074210Z",
     "start_time": "2021-12-14T03:34:37.092832Z"
    },
    "colab": {
     "base_uri": "https://localhost:8080/"
    },
    "executionInfo": {
     "elapsed": 872,
     "status": "ok",
     "timestamp": 1639008986864,
     "user": {
      "displayName": "Rifqi Luthfan",
      "photoUrl": "https://lh3.googleusercontent.com/a-/AOh14Gi6REDrzyVNDZl2VT9M3BzwlBYF_1Y_KHDREx_t=s64",
      "userId": "07442021322718158104"
     },
     "user_tz": 300
    },
    "id": "oB6gK6MUO98Z",
    "outputId": "41b3ce18-cba3-4bee-e1f0-8c79f4e48292"
   },
   "outputs": [
    {
     "name": "stdout",
     "output_type": "stream",
     "text": [
      "remained state dict odict_keys(['fc.weight', 'fc.bias'])\n"
     ]
    }
   ],
   "source": [
    "# Create model with custom quantization layer from the start\n",
    "c_base_model = quant_aware_resnet_model.CResnet18(num_class=10, q_num_bit=8, qat=True, pretrained=True)\n",
    "c_base_model.quantize(True)"
   ]
  },
  {
   "cell_type": "code",
   "execution_count": 11,
   "metadata": {
    "ExecuteTime": {
     "end_time": "2021-12-14T03:39:50.655044Z",
     "start_time": "2021-12-14T03:34:54.965061Z"
    },
    "colab": {
     "base_uri": "https://localhost:8080/"
    },
    "executionInfo": {
     "elapsed": 331716,
     "status": "ok",
     "timestamp": 1639009319891,
     "user": {
      "displayName": "Rifqi Luthfan",
      "photoUrl": "https://lh3.googleusercontent.com/a-/AOh14Gi6REDrzyVNDZl2VT9M3BzwlBYF_1Y_KHDREx_t=s64",
      "userId": "07442021322718158104"
     },
     "user_tz": 300
    },
    "id": "QJFoGEjZNTkA",
    "outputId": "9973e40d-0a42-499a-d085-8f2746212eef"
   },
   "outputs": [
    {
     "name": "stderr",
     "output_type": "stream",
     "text": [
      "train - epoch:  0: : 196it [00:27,  7.17it/s, loss=0.992]                       \n",
      "val - epoch:  0: : 40it [00:03, 11.33it/s, val_loss=0.766, train_loss=0.992, acc=0.739]                      \n",
      "train - epoch:  1: : 196it [00:26,  7.37it/s, loss=0.681]                       \n",
      "val - epoch:  1: : 40it [00:03, 13.13it/s, val_loss=0.669, train_loss=0.681, acc=0.773]                      \n",
      "train - epoch:  2: : 196it [00:26,  7.52it/s, loss=0.551]                       \n",
      "val - epoch:  2: : 40it [00:02, 13.34it/s, val_loss=0.63, train_loss=0.551, acc=0.783]                       \n",
      "train - epoch:  3: : 196it [00:26,  7.52it/s, loss=0.462]                       \n",
      "val - epoch:  3: : 40it [00:02, 13.56it/s, val_loss=0.644, train_loss=0.462, acc=0.794]                      \n",
      "train - epoch:  4: : 196it [00:25,  7.59it/s, loss=0.398]                       \n",
      "val - epoch:  4: : 40it [00:03, 13.23it/s, val_loss=0.62, train_loss=0.398, acc=0.806]                       \n",
      "train - epoch:  5: : 196it [00:25,  7.67it/s, loss=0.339]                       \n",
      "val - epoch:  5: : 40it [00:03, 13.10it/s, val_loss=0.628, train_loss=0.339, acc=0.812]                      \n",
      "train - epoch:  6: : 196it [00:26,  7.40it/s, loss=0.297]                       \n",
      "val - epoch:  6: : 40it [00:03, 13.26it/s, val_loss=0.704, train_loss=0.297, acc=0.81]                       \n",
      "train - epoch:  7: : 196it [00:25,  7.67it/s, loss=0.253]                       \n",
      "val - epoch:  7: : 40it [00:03, 12.53it/s, val_loss=0.707, train_loss=0.253, acc=0.803]                      \n",
      "train - epoch:  8: : 196it [00:25,  7.77it/s, loss=0.217]                       \n",
      "val - epoch:  8: : 40it [00:02, 14.06it/s, val_loss=0.716, train_loss=0.217, acc=0.814]                      \n",
      "train - epoch:  9: : 196it [00:25,  7.68it/s, loss=0.184]                       \n",
      "val - epoch:  9: : 40it [00:02, 13.87it/s, val_loss=0.828, train_loss=0.184, acc=0.805]                      \n"
     ]
    }
   ],
   "source": [
    "# Training Loop\n",
    "criterion = nn.CrossEntropyLoss()\n",
    "optimizer = torch.optim.SGD(c_base_model.parameters(), 1e-2, momentum=0.9, weight_decay=1e-5)\n",
    "\n",
    "train_loop.train_model(\n",
    "    train_dl=train_loader, \n",
    "    val_dl=test_loader, \n",
    "    model=c_base_model, \n",
    "    optimizer=optimizer, \n",
    "    criterion=criterion,\n",
    "    clip_value=1e-2,\n",
    "    epochs=N_EPOCH, save=f\"{SAVE_DIR}/qat8bit\"\n",
    ")"
   ]
  },
  {
   "cell_type": "code",
   "execution_count": 12,
   "metadata": {
    "ExecuteTime": {
     "end_time": "2021-12-14T03:41:18.454041Z",
     "start_time": "2021-12-14T03:41:18.413769Z"
    },
    "id": "muNQF34RWwZ6"
   },
   "outputs": [],
   "source": [
    "# Convert to quantized model\n",
    "q_base_model = post_training_quant_model.QResnet18(num_class=10)\n",
    "q_base_model.convert_from(c_base_model)"
   ]
  },
  {
   "cell_type": "code",
   "execution_count": 13,
   "metadata": {
    "ExecuteTime": {
     "end_time": "2021-12-14T03:41:25.257859Z",
     "start_time": "2021-12-14T03:41:21.491914Z"
    },
    "colab": {
     "base_uri": "https://localhost:8080/"
    },
    "executionInfo": {
     "elapsed": 6681,
     "status": "ok",
     "timestamp": 1639009326731,
     "user": {
      "displayName": "Rifqi Luthfan",
      "photoUrl": "https://lh3.googleusercontent.com/a-/AOh14Gi6REDrzyVNDZl2VT9M3BzwlBYF_1Y_KHDREx_t=s64",
      "userId": "07442021322718158104"
     },
     "user_tz": 300
    },
    "id": "UPl1MlvHJHOY",
    "outputId": "8fd185d3-fcd2-4124-e81e-ec5f23efad93"
   },
   "outputs": [
    {
     "name": "stderr",
     "output_type": "stream",
     "text": [
      "100%|██████████| 40/40 [00:03<00:00, 10.70it/s, acc=0.806]"
     ]
    },
    {
     "name": "stdout",
     "output_type": "stream",
     "text": [
      "acc: 0.8057\n"
     ]
    },
    {
     "name": "stderr",
     "output_type": "stream",
     "text": [
      "\n"
     ]
    }
   ],
   "source": [
    "# Validation accuracy\n",
    "train_loop.test_model(test_loader, q_base_model)"
   ]
  },
  {
   "cell_type": "code",
   "execution_count": 14,
   "metadata": {
    "ExecuteTime": {
     "end_time": "2021-12-14T03:41:30.990383Z",
     "start_time": "2021-12-14T03:41:30.939745Z"
    }
   },
   "outputs": [],
   "source": [
    "with open(f'{SAVE_DIR}/qat8bit/model_weights_quantized.pt', 'wb') as f:\n",
    "    torch.save(q_base_model.state_dict(), f)"
   ]
  },
  {
   "cell_type": "markdown",
   "metadata": {},
   "source": [
    "### 7-bit quantization"
   ]
  },
  {
   "cell_type": "code",
   "execution_count": 10,
   "metadata": {
    "ExecuteTime": {
     "end_time": "2021-12-14T03:42:58.312499Z",
     "start_time": "2021-12-14T03:42:57.903104Z"
    }
   },
   "outputs": [
    {
     "name": "stdout",
     "output_type": "stream",
     "text": [
      "remained state dict odict_keys(['fc.weight', 'fc.bias'])\n"
     ]
    }
   ],
   "source": [
    "# Create model with custom quantization layer from the start\n",
    "c_base_model = quant_aware_resnet_model.CResnet18(num_class=10, q_num_bit=7, qat=True, pretrained=True)\n",
    "c_base_model.quantize(True)"
   ]
  },
  {
   "cell_type": "code",
   "execution_count": 11,
   "metadata": {
    "ExecuteTime": {
     "end_time": "2021-12-14T03:47:50.944434Z",
     "start_time": "2021-12-14T03:42:59.060113Z"
    }
   },
   "outputs": [
    {
     "name": "stderr",
     "output_type": "stream",
     "text": [
      "train - epoch:  0: : 196it [00:25,  7.73it/s, loss=0.966]                       \n",
      "val - epoch:  0: : 40it [00:02, 13.44it/s, val_loss=0.806, train_loss=0.966, acc=0.719]                      \n",
      "train - epoch:  1: : 196it [00:25,  7.59it/s, loss=0.682]                       \n",
      "val - epoch:  1: : 40it [00:02, 13.80it/s, val_loss=0.698, train_loss=0.682, acc=0.767]                      \n",
      "train - epoch:  2: : 196it [00:25,  7.63it/s, loss=0.56]                        \n",
      "val - epoch:  2: : 40it [00:03, 12.74it/s, val_loss=0.701, train_loss=0.56, acc=0.765]                      \n",
      "train - epoch:  3: : 196it [00:26,  7.49it/s, loss=0.489]                       \n",
      "val - epoch:  3: : 40it [00:03, 13.14it/s, val_loss=0.607, train_loss=0.489, acc=0.805]                      \n",
      "train - epoch:  4: : 196it [00:26,  7.47it/s, loss=0.403]                       \n",
      "val - epoch:  4: : 40it [00:02, 13.97it/s, val_loss=0.668, train_loss=0.403, acc=0.796]                      \n",
      "train - epoch:  5: : 196it [00:25,  7.62it/s, loss=0.358]                       \n",
      "val - epoch:  5: : 40it [00:03, 11.99it/s, val_loss=0.671, train_loss=0.358, acc=0.798]                      \n",
      "train - epoch:  6: : 196it [00:25,  7.64it/s, loss=0.311]                       \n",
      "val - epoch:  6: : 40it [00:03, 13.20it/s, val_loss=0.707, train_loss=0.311, acc=0.788]                      \n",
      "train - epoch:  7: : 196it [00:25,  7.65it/s, loss=0.285]                       \n",
      "val - epoch:  7: : 40it [00:02, 13.41it/s, val_loss=0.691, train_loss=0.285, acc=0.804]                      \n",
      "train - epoch:  8: : 196it [00:25,  7.69it/s, loss=0.232]                       \n",
      "val - epoch:  8: : 40it [00:02, 13.45it/s, val_loss=0.746, train_loss=0.232, acc=0.808]                      \n",
      "train - epoch:  9: : 196it [00:25,  7.77it/s, loss=0.219]                       \n",
      "val - epoch:  9: : 40it [00:03, 12.65it/s, val_loss=0.705, train_loss=0.219, acc=0.812]                      \n"
     ]
    }
   ],
   "source": [
    "# Training Loop\n",
    "criterion = nn.CrossEntropyLoss()\n",
    "optimizer = torch.optim.SGD(c_base_model.parameters(), 1e-2, momentum=0.9, weight_decay=1e-5)\n",
    "\n",
    "train_loop.train_model(\n",
    "    train_dl=train_loader, \n",
    "    val_dl=test_loader, \n",
    "    model=c_base_model, \n",
    "    optimizer=optimizer, \n",
    "    criterion=criterion,\n",
    "    clip_value=1e-2,\n",
    "    epochs=N_EPOCH, save=f\"{SAVE_DIR}/qat7bit\"\n",
    ")"
   ]
  },
  {
   "cell_type": "code",
   "execution_count": 12,
   "metadata": {
    "ExecuteTime": {
     "end_time": "2021-12-14T03:47:50.994363Z",
     "start_time": "2021-12-14T03:47:50.947792Z"
    }
   },
   "outputs": [],
   "source": [
    "# Convert to quantized model\n",
    "q_base_model = post_training_quant_model.QResnet18(num_class=10)\n",
    "q_base_model.convert_from(c_base_model)"
   ]
  },
  {
   "cell_type": "code",
   "execution_count": 13,
   "metadata": {
    "ExecuteTime": {
     "end_time": "2021-12-14T03:47:55.030793Z",
     "start_time": "2021-12-14T03:47:50.996537Z"
    }
   },
   "outputs": [
    {
     "name": "stderr",
     "output_type": "stream",
     "text": [
      "100%|██████████| 40/40 [00:04<00:00,  9.99it/s, acc=0.812]"
     ]
    },
    {
     "name": "stdout",
     "output_type": "stream",
     "text": [
      "acc: 0.8118\n"
     ]
    },
    {
     "name": "stderr",
     "output_type": "stream",
     "text": [
      "\n"
     ]
    }
   ],
   "source": [
    "# Validation accuracy\n",
    "train_loop.test_model(test_loader, q_base_model)"
   ]
  },
  {
   "cell_type": "code",
   "execution_count": 14,
   "metadata": {
    "ExecuteTime": {
     "end_time": "2021-12-14T03:47:55.088165Z",
     "start_time": "2021-12-14T03:47:55.033954Z"
    }
   },
   "outputs": [],
   "source": [
    "with open(f'{SAVE_DIR}/qat7bit/model_weights_quantized.pt', 'wb') as f:\n",
    "    torch.save(q_base_model.state_dict(), f)"
   ]
  },
  {
   "cell_type": "markdown",
   "metadata": {},
   "source": [
    "### 6-bit quantization"
   ]
  },
  {
   "cell_type": "code",
   "execution_count": 10,
   "metadata": {
    "ExecuteTime": {
     "end_time": "2021-12-14T03:49:16.247583Z",
     "start_time": "2021-12-14T03:49:15.822492Z"
    }
   },
   "outputs": [
    {
     "name": "stdout",
     "output_type": "stream",
     "text": [
      "remained state dict odict_keys(['fc.weight', 'fc.bias'])\n"
     ]
    }
   ],
   "source": [
    "# Create model with custom quantization layer from the start\n",
    "c_base_model = quant_aware_resnet_model.CResnet18(num_class=10, q_num_bit=6, qat=True, pretrained=True)\n",
    "c_base_model.quantize(True)"
   ]
  },
  {
   "cell_type": "code",
   "execution_count": 11,
   "metadata": {
    "ExecuteTime": {
     "end_time": "2021-12-14T03:54:07.264084Z",
     "start_time": "2021-12-14T03:49:16.250195Z"
    }
   },
   "outputs": [
    {
     "name": "stderr",
     "output_type": "stream",
     "text": [
      "train - epoch:  0: : 196it [00:25,  7.60it/s, loss=1.06]                       \n",
      "val - epoch:  0: : 40it [00:03, 12.22it/s, val_loss=0.847, train_loss=1.06, acc=0.701]                      \n",
      "train - epoch:  1: : 196it [00:26,  7.48it/s, loss=0.728]                       \n",
      "val - epoch:  1: : 40it [00:03, 13.22it/s, val_loss=0.805, train_loss=0.728, acc=0.733]                      \n",
      "train - epoch:  2: : 196it [00:25,  7.59it/s, loss=0.626]                       \n",
      "val - epoch:  2: : 40it [00:02, 13.47it/s, val_loss=0.698, train_loss=0.626, acc=0.77]                       \n",
      "train - epoch:  3: : 196it [00:25,  7.63it/s, loss=0.563]                       \n",
      "val - epoch:  3: : 40it [00:02, 13.60it/s, val_loss=0.707, train_loss=0.563, acc=0.763]                      \n",
      "train - epoch:  4: : 196it [00:25,  7.67it/s, loss=0.515]                       \n",
      "val - epoch:  4: : 40it [00:02, 13.64it/s, val_loss=0.677, train_loss=0.515, acc=0.781]                      \n",
      "train - epoch:  5: : 196it [00:25,  7.70it/s, loss=0.493]                       \n",
      "val - epoch:  5: : 40it [00:03, 13.01it/s, val_loss=0.716, train_loss=0.493, acc=0.78]                       \n",
      "train - epoch:  6: : 196it [00:25,  7.68it/s, loss=0.453]                       \n",
      "val - epoch:  6: : 40it [00:02, 14.36it/s, val_loss=0.782, train_loss=0.453, acc=0.749]                      \n",
      "train - epoch:  7: : 196it [00:25,  7.72it/s, loss=0.455]                       \n",
      "val - epoch:  7: : 40it [00:02, 13.64it/s, val_loss=0.731, train_loss=0.455, acc=0.781]                      \n",
      "train - epoch:  8: : 196it [00:25,  7.67it/s, loss=0.452]                       \n",
      "val - epoch:  8: : 40it [00:02, 13.81it/s, val_loss=0.734, train_loss=0.452, acc=0.776]                      \n",
      "train - epoch:  9: : 196it [00:25,  7.79it/s, loss=0.452]                       \n",
      "val - epoch:  9: : 40it [00:02, 13.39it/s, val_loss=0.755, train_loss=0.452, acc=0.77]                       \n"
     ]
    }
   ],
   "source": [
    "# Training Loop\n",
    "criterion = nn.CrossEntropyLoss()\n",
    "optimizer = torch.optim.SGD(c_base_model.parameters(), 1e-2, momentum=0.9, weight_decay=1e-5)\n",
    "\n",
    "train_loop.train_model(\n",
    "    train_dl=train_loader, \n",
    "    val_dl=test_loader, \n",
    "    model=c_base_model, \n",
    "    optimizer=optimizer, \n",
    "    criterion=criterion,\n",
    "    clip_value=1e-2,\n",
    "    epochs=N_EPOCH, save=f\"{SAVE_DIR}/qat6bit\"\n",
    ")"
   ]
  },
  {
   "cell_type": "code",
   "execution_count": 12,
   "metadata": {
    "ExecuteTime": {
     "end_time": "2021-12-14T03:54:07.302282Z",
     "start_time": "2021-12-14T03:54:07.265989Z"
    }
   },
   "outputs": [],
   "source": [
    "# Convert to quantized model\n",
    "q_base_model = post_training_quant_model.QResnet18(num_class=10)\n",
    "q_base_model.convert_from(c_base_model)"
   ]
  },
  {
   "cell_type": "code",
   "execution_count": 13,
   "metadata": {
    "ExecuteTime": {
     "end_time": "2021-12-14T03:54:11.033678Z",
     "start_time": "2021-12-14T03:54:07.304337Z"
    }
   },
   "outputs": [
    {
     "name": "stderr",
     "output_type": "stream",
     "text": [
      "100%|██████████| 40/40 [00:03<00:00, 10.79it/s, acc=0.769]"
     ]
    },
    {
     "name": "stdout",
     "output_type": "stream",
     "text": [
      "acc: 0.7689\n"
     ]
    },
    {
     "name": "stderr",
     "output_type": "stream",
     "text": [
      "\n"
     ]
    }
   ],
   "source": [
    "# Validation accuracy\n",
    "train_loop.test_model(test_loader, q_base_model)"
   ]
  },
  {
   "cell_type": "code",
   "execution_count": 14,
   "metadata": {
    "ExecuteTime": {
     "end_time": "2021-12-14T03:54:11.089964Z",
     "start_time": "2021-12-14T03:54:11.036938Z"
    }
   },
   "outputs": [],
   "source": [
    "with open(f'{SAVE_DIR}/qat6bit/model_weights_quantized.pt', 'wb') as f:\n",
    "    torch.save(q_base_model.state_dict(), f)"
   ]
  },
  {
   "cell_type": "markdown",
   "metadata": {},
   "source": [
    "### 5-bit quantization"
   ]
  },
  {
   "cell_type": "code",
   "execution_count": 10,
   "metadata": {
    "ExecuteTime": {
     "end_time": "2021-12-14T03:58:16.572832Z",
     "start_time": "2021-12-14T03:58:16.169759Z"
    }
   },
   "outputs": [
    {
     "name": "stdout",
     "output_type": "stream",
     "text": [
      "remained state dict odict_keys(['fc.weight', 'fc.bias'])\n"
     ]
    }
   ],
   "source": [
    "# Create model with custom quantization layer from the start\n",
    "c_base_model = quant_aware_resnet_model.CResnet18(num_class=10, q_num_bit=5, qat=True, pretrained=True)\n",
    "c_base_model.quantize(True)"
   ]
  },
  {
   "cell_type": "code",
   "execution_count": 11,
   "metadata": {
    "ExecuteTime": {
     "end_time": "2021-12-14T04:03:11.986848Z",
     "start_time": "2021-12-14T03:58:16.575094Z"
    }
   },
   "outputs": [
    {
     "name": "stderr",
     "output_type": "stream",
     "text": [
      "train - epoch:  0: : 196it [00:26,  7.29it/s, loss=1.53]                       \n",
      "val - epoch:  0: : 40it [00:03, 12.85it/s, val_loss=1.3, train_loss=1.53, acc=0.545]                       \n",
      "train - epoch:  1: : 196it [00:26,  7.40it/s, loss=1.17]                       \n",
      "val - epoch:  1: : 40it [00:03, 13.01it/s, val_loss=1.15, train_loss=1.17, acc=0.588]                      \n",
      "train - epoch:  2: : 196it [00:25,  7.67it/s, loss=1.07]                       \n",
      "val - epoch:  2: : 40it [00:02, 13.95it/s, val_loss=1.09, train_loss=1.07, acc=0.615]                      \n",
      "train - epoch:  3: : 196it [00:26,  7.52it/s, loss=1.03]                       \n",
      "val - epoch:  3: : 40it [00:02, 13.98it/s, val_loss=1.06, train_loss=1.03, acc=0.624]                      \n",
      "train - epoch:  4: : 196it [00:25,  7.58it/s, loss=0.989]                       \n",
      "val - epoch:  4: : 40it [00:02, 13.61it/s, val_loss=1.02, train_loss=0.989, acc=0.638]                       \n",
      "train - epoch:  5: : 196it [00:25,  7.75it/s, loss=0.96]                        \n",
      "val - epoch:  5: : 40it [00:03, 12.64it/s, val_loss=1, train_loss=0.96, acc=0.646]                          \n",
      "train - epoch:  6: : 196it [00:25,  7.74it/s, loss=0.94]                        \n",
      "val - epoch:  6: : 40it [00:02, 13.71it/s, val_loss=0.975, train_loss=0.94, acc=0.65]                       \n",
      "train - epoch:  7: : 196it [00:26,  7.47it/s, loss=0.943]                       \n",
      "val - epoch:  7: : 40it [00:03, 12.41it/s, val_loss=1, train_loss=0.943, acc=0.65]                           \n",
      "train - epoch:  8: : 196it [00:26,  7.53it/s, loss=0.93]                        \n",
      "val - epoch:  8: : 40it [00:03, 13.17it/s, val_loss=1, train_loss=0.93, acc=0.646]                          \n",
      "train - epoch:  9: : 196it [00:25,  7.70it/s, loss=0.943]                       \n",
      "val - epoch:  9: : 40it [00:02, 13.57it/s, val_loss=1.05, train_loss=0.943, acc=0.628]                      \n"
     ]
    }
   ],
   "source": [
    "# Training Loop\n",
    "criterion = nn.CrossEntropyLoss()\n",
    "optimizer = torch.optim.SGD(c_base_model.parameters(), 1e-3, momentum=0.9, weight_decay=1e-5)\n",
    "\n",
    "train_loop.train_model(\n",
    "    train_dl=train_loader, \n",
    "    val_dl=test_loader, \n",
    "    model=c_base_model, \n",
    "    optimizer=optimizer, \n",
    "    criterion=criterion,\n",
    "    clip_value=1e-2,\n",
    "    epochs=N_EPOCH, save=f\"{SAVE_DIR}/qat5bit\"\n",
    ")"
   ]
  },
  {
   "cell_type": "code",
   "execution_count": 12,
   "metadata": {
    "ExecuteTime": {
     "end_time": "2021-12-14T04:03:12.035427Z",
     "start_time": "2021-12-14T04:03:11.989415Z"
    }
   },
   "outputs": [],
   "source": [
    "# Convert to quantized model\n",
    "q_base_model = post_training_quant_model.QResnet18(num_class=10)\n",
    "q_base_model.convert_from(c_base_model)"
   ]
  },
  {
   "cell_type": "code",
   "execution_count": 13,
   "metadata": {
    "ExecuteTime": {
     "end_time": "2021-12-14T04:03:15.837246Z",
     "start_time": "2021-12-14T04:03:12.037281Z"
    }
   },
   "outputs": [
    {
     "name": "stderr",
     "output_type": "stream",
     "text": [
      "100%|██████████| 40/40 [00:03<00:00, 10.60it/s, acc=0.634]"
     ]
    },
    {
     "name": "stdout",
     "output_type": "stream",
     "text": [
      "acc: 0.6344\n"
     ]
    },
    {
     "name": "stderr",
     "output_type": "stream",
     "text": [
      "\n"
     ]
    }
   ],
   "source": [
    "# Validation accuracy\n",
    "train_loop.test_model(test_loader, q_base_model)"
   ]
  },
  {
   "cell_type": "code",
   "execution_count": 14,
   "metadata": {
    "ExecuteTime": {
     "end_time": "2021-12-14T04:03:15.891461Z",
     "start_time": "2021-12-14T04:03:15.840429Z"
    }
   },
   "outputs": [],
   "source": [
    "with open(f'{SAVE_DIR}/qat5bit/model_weights_quantized.pt', 'wb') as f:\n",
    "    torch.save(q_base_model.state_dict(), f)"
   ]
  },
  {
   "cell_type": "markdown",
   "metadata": {},
   "source": [
    "### 4-bit quantization"
   ]
  },
  {
   "cell_type": "code",
   "execution_count": 10,
   "metadata": {
    "ExecuteTime": {
     "end_time": "2021-12-14T04:12:41.096313Z",
     "start_time": "2021-12-14T04:12:40.664349Z"
    }
   },
   "outputs": [
    {
     "name": "stdout",
     "output_type": "stream",
     "text": [
      "remained state dict odict_keys(['fc.weight', 'fc.bias'])\n"
     ]
    }
   ],
   "source": [
    "# Create model with custom quantization layer from the start\n",
    "c_base_model = quant_aware_resnet_model.CResnet18(num_class=10, q_num_bit=4, qat=True, pretrained=True)\n",
    "c_base_model.quantize(True)"
   ]
  },
  {
   "cell_type": "code",
   "execution_count": 11,
   "metadata": {
    "ExecuteTime": {
     "end_time": "2021-12-14T04:15:11.880253Z",
     "start_time": "2021-12-14T04:12:41.098752Z"
    },
    "scrolled": true
   },
   "outputs": [
    {
     "name": "stderr",
     "output_type": "stream",
     "text": [
      "train - epoch:  0: : 196it [00:26,  7.45it/s, loss=2.35]                       \n",
      "val - epoch:  0: : 40it [00:03, 12.12it/s, val_loss=2.21, train_loss=2.35, acc=0.175]                      \n",
      "train - epoch:  1: : 196it [00:27,  7.01it/s, loss=2.13]                       \n",
      "val - epoch:  1: : 40it [00:03, 12.65it/s, val_loss=2.1, train_loss=2.13, acc=0.231]                       \n",
      "train - epoch:  2: : 196it [00:26,  7.49it/s, loss=2.07]                       \n",
      "val - epoch:  2: : 40it [00:03, 12.87it/s, val_loss=2.03, train_loss=2.07, acc=0.226]                      \n",
      "train - epoch:  3: : 196it [00:25,  7.76it/s, loss=2.12]                       \n",
      "val - epoch:  3: : 40it [00:02, 13.77it/s, val_loss=2.1, train_loss=2.12, acc=0.213]                       \n",
      "train - epoch:  4: : 196it [00:25,  7.70it/s, loss=2.07]                       \n",
      "val - epoch:  4: : 40it [00:02, 14.06it/s, val_loss=2.03, train_loss=2.07, acc=0.228]                      \n"
     ]
    }
   ],
   "source": [
    "N_EPOCH=5\n",
    "\n",
    "# Training Loop\n",
    "criterion = nn.CrossEntropyLoss()\n",
    "optimizer = torch.optim.SGD(c_base_model.parameters(), 5e-4, momentum=0.9, weight_decay=1e-5)\n",
    "\n",
    "train_loop.train_model(\n",
    "    train_dl=train_loader, \n",
    "    val_dl=test_loader, \n",
    "    model=c_base_model, \n",
    "    optimizer=optimizer, \n",
    "    criterion=criterion,\n",
    "    clip_value=1e-2,\n",
    "    epochs=N_EPOCH, save=f\"{SAVE_DIR}/qat4bit\"\n",
    ")"
   ]
  },
  {
   "cell_type": "code",
   "execution_count": 12,
   "metadata": {
    "ExecuteTime": {
     "end_time": "2021-12-14T04:15:11.918474Z",
     "start_time": "2021-12-14T04:15:11.882901Z"
    }
   },
   "outputs": [],
   "source": [
    "# Convert to quantized model\n",
    "q_base_model = post_training_quant_model.QResnet18(num_class=10)\n",
    "q_base_model.convert_from(c_base_model)"
   ]
  },
  {
   "cell_type": "code",
   "execution_count": 13,
   "metadata": {
    "ExecuteTime": {
     "end_time": "2021-12-14T04:15:15.572041Z",
     "start_time": "2021-12-14T04:15:11.920344Z"
    }
   },
   "outputs": [
    {
     "name": "stderr",
     "output_type": "stream",
     "text": [
      "100%|██████████| 40/40 [00:03<00:00, 11.03it/s, acc=0.226]"
     ]
    },
    {
     "name": "stdout",
     "output_type": "stream",
     "text": [
      "acc: 0.2257\n"
     ]
    },
    {
     "name": "stderr",
     "output_type": "stream",
     "text": [
      "\n"
     ]
    }
   ],
   "source": [
    "# Validation accuracy\n",
    "train_loop.test_model(test_loader, q_base_model)"
   ]
  },
  {
   "cell_type": "code",
   "execution_count": 14,
   "metadata": {
    "ExecuteTime": {
     "end_time": "2021-12-14T04:15:15.627886Z",
     "start_time": "2021-12-14T04:15:15.575843Z"
    }
   },
   "outputs": [],
   "source": [
    "with open(f'{SAVE_DIR}/qat4bit/model_weights_quantized.pt', 'wb') as f:\n",
    "    torch.save(q_base_model.state_dict(), f)"
   ]
  },
  {
   "cell_type": "code",
   "execution_count": null,
   "metadata": {},
   "outputs": [],
   "source": []
  }
 ],
 "metadata": {
  "accelerator": "GPU",
  "colab": {
   "authorship_tag": "ABX9TyOh2T6Tj/G/RPl19+iwVusG",
   "collapsed_sections": [],
   "name": "CIFAR10.ipynb",
   "provenance": []
  },
  "kernelspec": {
   "display_name": "Python 3",
   "language": "python",
   "name": "python3"
  },
  "language_info": {
   "codemirror_mode": {
    "name": "ipython",
    "version": 3
   },
   "file_extension": ".py",
   "mimetype": "text/x-python",
   "name": "python",
   "nbconvert_exporter": "python",
   "pygments_lexer": "ipython3",
   "version": "3.7.12"
  },
  "toc": {
   "base_numbering": 1,
   "nav_menu": {},
   "number_sections": true,
   "sideBar": true,
   "skip_h1_title": false,
   "title_cell": "Table of Contents",
   "title_sidebar": "Contents",
   "toc_cell": false,
   "toc_position": {
    "height": "calc(100% - 180px)",
    "left": "10px",
    "top": "150px",
    "width": "302.4px"
   },
   "toc_section_display": true,
   "toc_window_display": true
  }
 },
 "nbformat": 4,
 "nbformat_minor": 1
}
