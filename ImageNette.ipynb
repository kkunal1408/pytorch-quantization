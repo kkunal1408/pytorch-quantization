{
 "cells": [
  {
   "cell_type": "markdown",
   "metadata": {
    "id": "K9ILC73dI9G9"
   },
   "source": [
    "# Initialization"
   ]
  },
  {
   "cell_type": "markdown",
   "metadata": {
    "id": "is8dFihPJRmW"
   },
   "source": [
    "## Import Libraries"
   ]
  },
  {
   "cell_type": "code",
   "execution_count": 1,
   "metadata": {
    "ExecuteTime": {
     "end_time": "2021-12-13T16:56:30.297408Z",
     "start_time": "2021-12-13T16:56:28.012376Z"
    },
    "executionInfo": {
     "elapsed": 1256,
     "status": "ok",
     "timestamp": 1639339325481,
     "user": {
      "displayName": "Rifqi Luthfan",
      "photoUrl": "https://lh3.googleusercontent.com/a-/AOh14Gi6REDrzyVNDZl2VT9M3BzwlBYF_1Y_KHDREx_t=s64",
      "userId": "07442021322718158104"
     },
     "user_tz": 300
    },
    "id": "OYR89FOfI37J"
   },
   "outputs": [
    {
     "data": {
      "text/plain": [
       "'2.5.3'"
      ]
     },
     "execution_count": 1,
     "metadata": {},
     "output_type": "execute_result"
    }
   ],
   "source": [
    "from __future__ import print_function\n",
    "import argparse\n",
    "import torch\n",
    "import torch.nn as nn\n",
    "import torch.nn.functional as F\n",
    "import torch.optim as optim\n",
    "import torchvision\n",
    "from torchvision import datasets, transforms\n",
    "\n",
    "# Fast AI (PyTorch wrapper)\n",
    "from fastai import *\n",
    "from fastai.vision.all import *\n",
    "import fastai\n",
    "fastai.__version__"
   ]
  },
  {
   "cell_type": "code",
   "execution_count": 2,
   "metadata": {
    "ExecuteTime": {
     "end_time": "2021-12-13T16:56:30.303072Z",
     "start_time": "2021-12-13T16:56:30.299585Z"
    },
    "executionInfo": {
     "elapsed": 7,
     "status": "ok",
     "timestamp": 1639339325484,
     "user": {
      "displayName": "Rifqi Luthfan",
      "photoUrl": "https://lh3.googleusercontent.com/a-/AOh14Gi6REDrzyVNDZl2VT9M3BzwlBYF_1Y_KHDREx_t=s64",
      "userId": "07442021322718158104"
     },
     "user_tz": 300
    },
    "id": "PW9VU5jIJOeK"
   },
   "outputs": [],
   "source": [
    "from collections import namedtuple\n",
    "import tqdm"
   ]
  },
  {
   "cell_type": "code",
   "execution_count": 3,
   "metadata": {
    "ExecuteTime": {
     "end_time": "2021-12-13T16:56:30.311433Z",
     "start_time": "2021-12-13T16:56:30.305277Z"
    },
    "colab": {
     "base_uri": "https://localhost:8080/",
     "height": 36
    },
    "executionInfo": {
     "elapsed": 6,
     "status": "ok",
     "timestamp": 1639339325484,
     "user": {
      "displayName": "Rifqi Luthfan",
      "photoUrl": "https://lh3.googleusercontent.com/a-/AOh14Gi6REDrzyVNDZl2VT9M3BzwlBYF_1Y_KHDREx_t=s64",
      "userId": "07442021322718158104"
     },
     "user_tz": 300
    },
    "id": "EAFb1zouJO0h",
    "outputId": "4224118a-ac2f-4080-a8f1-190b7df4f375"
   },
   "outputs": [
    {
     "data": {
      "text/plain": [
       "'Tesla V100-SXM2-16GB'"
      ]
     },
     "execution_count": 3,
     "metadata": {},
     "output_type": "execute_result"
    }
   ],
   "source": [
    "# make sure GPU is being used \n",
    "torch.cuda.current_device() \n",
    "torch.cuda.device(0)\n",
    "torch.cuda.get_device_name(0)"
   ]
  },
  {
   "cell_type": "code",
   "execution_count": 4,
   "metadata": {
    "ExecuteTime": {
     "end_time": "2021-12-13T16:56:30.339454Z",
     "start_time": "2021-12-13T16:56:30.314409Z"
    }
   },
   "outputs": [],
   "source": [
    "# Notebook auto reloads code. (Ref: http://stackoverflow.com/questions/1907993/autoreload-of-modules-in-ipython)\n",
    "%load_ext autoreload\n",
    "%autoreload 2"
   ]
  },
  {
   "cell_type": "markdown",
   "metadata": {
    "id": "Jn0LWLskJToR"
   },
   "source": [
    "## Import Created Modules"
   ]
  },
  {
   "cell_type": "code",
   "execution_count": 5,
   "metadata": {
    "ExecuteTime": {
     "end_time": "2021-12-13T16:56:30.363236Z",
     "start_time": "2021-12-13T16:56:30.340877Z"
    },
    "id": "A9Df0-4YJV1H"
   },
   "outputs": [],
   "source": [
    "from quantization_functions import quant_aware_resnet_model\n",
    "from quantization_functions import post_training_quant_model\n",
    "from quantization_functions import train_loop"
   ]
  },
  {
   "cell_type": "markdown",
   "metadata": {
    "id": "AMMfGCwTLWsq"
   },
   "source": [
    "## Load Dataset"
   ]
  },
  {
   "cell_type": "code",
   "execution_count": 6,
   "metadata": {
    "ExecuteTime": {
     "end_time": "2021-12-13T16:56:31.311630Z",
     "start_time": "2021-12-13T16:56:31.287977Z"
    },
    "id": "b4-R5xIcLmdt"
   },
   "outputs": [],
   "source": [
    "BATCH_SIZE = 128\n",
    "TEST_BATCH_SIZE = 32\n",
    "N_CLASS = 10"
   ]
  },
  {
   "cell_type": "code",
   "execution_count": 7,
   "metadata": {
    "ExecuteTime": {
     "end_time": "2021-12-13T16:56:31.640433Z",
     "start_time": "2021-12-13T16:56:31.617974Z"
    }
   },
   "outputs": [],
   "source": [
    "# Download Imagenette 320 pixel\n",
    "\n",
    "path = untar_data(URLs.IMAGENETTE_320)"
   ]
  },
  {
   "cell_type": "code",
   "execution_count": 8,
   "metadata": {
    "ExecuteTime": {
     "end_time": "2021-12-13T16:56:32.055137Z",
     "start_time": "2021-12-13T16:56:32.033054Z"
    },
    "colab": {
     "base_uri": "https://localhost:8080/"
    },
    "executionInfo": {
     "elapsed": 1962,
     "status": "ok",
     "timestamp": 1639008244643,
     "user": {
      "displayName": "Rifqi Luthfan",
      "photoUrl": "https://lh3.googleusercontent.com/a-/AOh14Gi6REDrzyVNDZl2VT9M3BzwlBYF_1Y_KHDREx_t=s64",
      "userId": "07442021322718158104"
     },
     "user_tz": 300
    },
    "id": "NOLdHAlGLWH-",
    "outputId": "5481f0d0-f207-474d-e7e7-2827e14233fa"
   },
   "outputs": [],
   "source": [
    "imagenet_stats = ([0.485, 0.456, 0.406], [0.229, 0.224, 0.225])\n",
    "\n",
    "train_tfms = transforms.Compose([\n",
    "    transforms.RandomResizedCrop(112),\n",
    "    transforms.RandomHorizontalFlip(), \n",
    "    transforms.ToTensor(),\n",
    "    transforms.Normalize(*imagenet_stats,inplace=True)\n",
    "])\n",
    "\n",
    "test_tfms = transforms.Compose([\n",
    "    transforms.Resize(128),\n",
    "    transforms.CenterCrop(112),\n",
    "    transforms.ToTensor(),\n",
    "    transforms.Normalize(*imagenet_stats)\n",
    "])\n",
    "    \n"
   ]
  },
  {
   "cell_type": "code",
   "execution_count": 9,
   "metadata": {
    "ExecuteTime": {
     "end_time": "2021-12-13T16:56:32.694791Z",
     "start_time": "2021-12-13T16:56:32.612596Z"
    }
   },
   "outputs": [],
   "source": [
    "# PyTorch datasets\n",
    "\n",
    "trainset = datasets.ImageFolder(path/\"train\", train_tfms)\n",
    "testset = datasets.ImageFolder(path/\"val\", test_tfms)"
   ]
  },
  {
   "cell_type": "code",
   "execution_count": 10,
   "metadata": {
    "ExecuteTime": {
     "end_time": "2021-12-13T16:56:33.135611Z",
     "start_time": "2021-12-13T16:56:33.112944Z"
    }
   },
   "outputs": [],
   "source": [
    "# PyTorch data loaders\n",
    "\n",
    "train_loader = torch.utils.data.DataLoader(trainset, batch_size=BATCH_SIZE, shuffle=True, num_workers=2)\n",
    "test_loader = torch.utils.data.DataLoader(testset, batch_size=TEST_BATCH_SIZE, shuffle=False, num_workers=2)"
   ]
  },
  {
   "cell_type": "markdown",
   "metadata": {
    "id": "z378KmkPI8n2"
   },
   "source": [
    "# Models"
   ]
  },
  {
   "cell_type": "code",
   "execution_count": 11,
   "metadata": {
    "ExecuteTime": {
     "end_time": "2021-12-13T16:56:34.089702Z",
     "start_time": "2021-12-13T16:56:34.067354Z"
    },
    "id": "EM6H0tupNLeT"
   },
   "outputs": [],
   "source": [
    "N_EPOCH = 10"
   ]
  },
  {
   "cell_type": "markdown",
   "metadata": {
    "id": "XxyL_hxTNL6j"
   },
   "source": [
    "## Base model"
   ]
  },
  {
   "cell_type": "code",
   "execution_count": 12,
   "metadata": {
    "ExecuteTime": {
     "end_time": "2021-12-13T16:25:05.948271Z",
     "start_time": "2021-12-13T16:25:05.439232Z"
    },
    "id": "Wfw_BQo0fhPF"
   },
   "outputs": [],
   "source": [
    "base_model = torchvision.models.resnet50(pretrained=True)\n",
    "base_model.fc = nn.Linear(base_model.fc.in_features, N_CLASS) # Change top layer"
   ]
  },
  {
   "cell_type": "code",
   "execution_count": 13,
   "metadata": {
    "ExecuteTime": {
     "end_time": "2021-12-13T16:32:40.471942Z",
     "start_time": "2021-12-13T16:25:05.981197Z"
    },
    "colab": {
     "background_save": true,
     "base_uri": "https://localhost:8080/"
    },
    "id": "_fFaNnSSNXwv",
    "outputId": "afc949b1-8e19-4233-cc01-2074798aa750"
   },
   "outputs": [
    {
     "name": "stderr",
     "output_type": "stream",
     "text": [
      "train - epoch:  0: : 37it [00:32,  1.15it/s, loss=1.77]                      \n",
      "val - epoch:  0: : 62it [00:13,  4.59it/s, val_loss=0.815, train_loss=1.77, acc=0.927]                      \n",
      "train - epoch:  1: : 37it [00:31,  1.18it/s, loss=0.653]                      \n",
      "val - epoch:  1: : 62it [00:13,  4.56it/s, val_loss=0.305, train_loss=0.653, acc=0.952]                      \n",
      "train - epoch:  2: : 37it [00:30,  1.20it/s, loss=0.356]                      \n",
      "val - epoch:  2: : 62it [00:13,  4.61it/s, val_loss=0.19, train_loss=0.356, acc=0.958]                       \n",
      "train - epoch:  3: : 37it [00:30,  1.20it/s, loss=0.266]                      \n",
      "val - epoch:  3: : 62it [00:13,  4.52it/s, val_loss=0.145, train_loss=0.266, acc=0.965]                       \n",
      "train - epoch:  4: : 37it [00:29,  1.24it/s, loss=0.225]                      \n",
      "val - epoch:  4: : 62it [00:13,  4.46it/s, val_loss=0.126, train_loss=0.225, acc=0.967]                       \n",
      "train - epoch:  5: : 37it [00:30,  1.22it/s, loss=0.203]                      \n",
      "val - epoch:  5: : 62it [00:13,  4.60it/s, val_loss=0.112, train_loss=0.203, acc=0.97]                        \n",
      "train - epoch:  6: : 37it [00:30,  1.21it/s, loss=0.188]                      \n",
      "val - epoch:  6: : 62it [00:13,  4.55it/s, val_loss=0.102, train_loss=0.188, acc=0.972]                       \n",
      "train - epoch:  7: : 37it [00:31,  1.19it/s, loss=0.178]                      \n",
      "val - epoch:  7: : 62it [00:13,  4.58it/s, val_loss=0.0959, train_loss=0.178, acc=0.975]                      \n",
      "train - epoch:  8: : 37it [00:30,  1.21it/s, loss=0.164]                      \n",
      "val - epoch:  8: : 62it [00:13,  4.56it/s, val_loss=0.0902, train_loss=0.164, acc=0.976]                      \n",
      "train - epoch:  9: : 37it [00:30,  1.20it/s, loss=0.154]                      \n",
      "val - epoch:  9: : 62it [00:13,  4.50it/s, val_loss=0.0853, train_loss=0.154, acc=0.978]                      \n"
     ]
    }
   ],
   "source": [
    "### Train Loop\n",
    "criterion = nn.CrossEntropyLoss()\n",
    "optimizer = torch.optim.SGD(base_model.parameters(), 1e-3, momentum=0.9, weight_decay=1e-5)\n",
    "\n",
    "train_loop.train_model(\n",
    "    train_dl=train_loader, \n",
    "    val_dl=test_loader, \n",
    "    model=base_model, \n",
    "    optimizer=optimizer, \n",
    "    criterion=criterion,\n",
    "    clip_value=1e-2,\n",
    "    epochs=N_EPOCH, save='checkpoint_imagenette/base_model'\n",
    ")"
   ]
  },
  {
   "cell_type": "code",
   "execution_count": 14,
   "metadata": {
    "ExecuteTime": {
     "end_time": "2021-12-13T16:32:59.797945Z",
     "start_time": "2021-12-13T16:32:45.919152Z"
    },
    "colab": {
     "background_save": true
    },
    "id": "aJyLHCM8bBFH",
    "outputId": "a99eb48f-4de7-4dbd-9fda-3a610e181b24"
   },
   "outputs": [
    {
     "name": "stderr",
     "output_type": "stream",
     "text": [
      "100%|██████████| 62/62 [00:13<00:00,  4.48it/s, acc=0.978]"
     ]
    },
    {
     "name": "stdout",
     "output_type": "stream",
     "text": [
      "acc: 0.9778343949044586\n"
     ]
    },
    {
     "name": "stderr",
     "output_type": "stream",
     "text": [
      "\n"
     ]
    }
   ],
   "source": [
    "base_model.eval()\n",
    "\n",
    "acc = []\n",
    "bar = tqdm.tqdm(test_loader)\n",
    "for x, label in bar:\n",
    "    x, label = x.cuda(), label.cuda()\n",
    "    y = base_model(x)\n",
    "    acc.extend((y.argmax(dim=1) == label).tolist())\n",
    "    bar.set_postfix({'acc':sum(acc) / len(acc)})\n",
    "print('acc:', sum(acc) / len(acc))"
   ]
  },
  {
   "cell_type": "markdown",
   "metadata": {
    "id": "o8y6NZlHQYZH"
   },
   "source": [
    "## Post Training Quantization"
   ]
  },
  {
   "cell_type": "markdown",
   "metadata": {
    "id": "frTh5sWvmCXA"
   },
   "source": [
    "### 8 bit quantization"
   ]
  },
  {
   "cell_type": "code",
   "execution_count": 12,
   "metadata": {
    "ExecuteTime": {
     "end_time": "2021-12-13T16:36:59.853770Z",
     "start_time": "2021-12-13T16:36:56.938429Z"
    },
    "colab": {
     "base_uri": "https://localhost:8080/"
    },
    "executionInfo": {
     "elapsed": 276,
     "status": "ok",
     "timestamp": 1639008821078,
     "user": {
      "displayName": "Rifqi Luthfan",
      "photoUrl": "https://lh3.googleusercontent.com/a-/AOh14Gi6REDrzyVNDZl2VT9M3BzwlBYF_1Y_KHDREx_t=s64",
      "userId": "07442021322718158104"
     },
     "user_tz": 300
    },
    "id": "GL29AUmrR3Vf",
    "outputId": "edc37568-38c8-45df-94b2-88d16b092703"
   },
   "outputs": [
    {
     "name": "stdout",
     "output_type": "stream",
     "text": [
      "remained state dict odict_keys([])\n"
     ]
    }
   ],
   "source": [
    "# Convert base model to a custom quantization layer with the trained weights\n",
    "c_base_model = quant_aware_resnet_model.CResnet50(num_class=10, q_num_bit=8, \n",
    "                                                  pretrained='checkpoint_imagenette/base_model/model_weights.pt')\n",
    "c_base_model.quantize(True)"
   ]
  },
  {
   "cell_type": "code",
   "execution_count": 13,
   "metadata": {
    "ExecuteTime": {
     "end_time": "2021-12-13T16:37:55.019935Z",
     "start_time": "2021-12-13T16:36:59.856440Z"
    },
    "colab": {
     "base_uri": "https://localhost:8080/"
    },
    "executionInfo": {
     "elapsed": 109704,
     "status": "ok",
     "timestamp": 1639008945820,
     "user": {
      "displayName": "Rifqi Luthfan",
      "photoUrl": "https://lh3.googleusercontent.com/a-/AOh14Gi6REDrzyVNDZl2VT9M3BzwlBYF_1Y_KHDREx_t=s64",
      "userId": "07442021322718158104"
     },
     "user_tz": 300
    },
    "id": "piIpEik6S1kR",
    "outputId": "a3441a92-e8a4-4dee-f98a-a7362d7495eb"
   },
   "outputs": [
    {
     "name": "stderr",
     "output_type": "stream",
     "text": [
      "train - epoch:  0: : 74it [00:36,  2.03it/s, loss=0.337]                      \n",
      "val - epoch:  0: : 123it [00:18,  6.75it/s, val_loss=0.238, train_loss=0.337, acc=0.926]                       \n"
     ]
    }
   ],
   "source": [
    "# Forward pass to have quantized weights\n",
    "criterion = nn.CrossEntropyLoss()\n",
    "optimizer = torch.optim.SGD(c_base_model.parameters(), 1e-3, momentum=0.9, weight_decay=1e-5)\n",
    "\n",
    "train_loop.train_model(\n",
    "    train_dl=train_loader, \n",
    "    val_dl=test_loader, \n",
    "    model=c_base_model, \n",
    "    optimizer=optimizer, \n",
    "    criterion=criterion,\n",
    "    clip_value=1e-2,\n",
    "    epochs=1, save='checkpoint_imagenette/ptq8bit'\n",
    ")"
   ]
  },
  {
   "cell_type": "code",
   "execution_count": 14,
   "metadata": {
    "ExecuteTime": {
     "end_time": "2021-12-13T16:42:09.649338Z",
     "start_time": "2021-12-13T16:42:09.581760Z"
    },
    "id": "aoISQcR-PuoY"
   },
   "outputs": [],
   "source": [
    "# Convert to quantized model\n",
    "q_base_model = post_training_quant_model.QResnet50(num_class=10)\n",
    "q_base_model.convert_from(c_base_model)"
   ]
  },
  {
   "cell_type": "code",
   "execution_count": 15,
   "metadata": {
    "ExecuteTime": {
     "end_time": "2021-12-13T16:42:27.142309Z",
     "start_time": "2021-12-13T16:42:11.477162Z"
    },
    "colab": {
     "base_uri": "https://localhost:8080/"
    },
    "executionInfo": {
     "elapsed": 6937,
     "status": "ok",
     "timestamp": 1639008967545,
     "user": {
      "displayName": "Rifqi Luthfan",
      "photoUrl": "https://lh3.googleusercontent.com/a-/AOh14Gi6REDrzyVNDZl2VT9M3BzwlBYF_1Y_KHDREx_t=s64",
      "userId": "07442021322718158104"
     },
     "user_tz": 300
    },
    "id": "K1vVMgjqQbUF",
    "outputId": "0b625bf7-9840-4e65-bef6-315fa33cca8e"
   },
   "outputs": [
    {
     "name": "stderr",
     "output_type": "stream",
     "text": [
      "100%|██████████| 123/123 [00:15<00:00,  7.87it/s, acc=0.925]"
     ]
    },
    {
     "name": "stdout",
     "output_type": "stream",
     "text": [
      "acc: 0.9248407643312102\n"
     ]
    },
    {
     "name": "stderr",
     "output_type": "stream",
     "text": [
      "\n"
     ]
    }
   ],
   "source": [
    "# Validation accuracy\n",
    "q_base_model.eval()\n",
    "\n",
    "acc = []\n",
    "bar = tqdm.tqdm(test_loader)\n",
    "for x, label in bar:\n",
    "    x, label = x.cuda(), label.cuda()\n",
    "    y = q_base_model(x)\n",
    "    acc.extend((y.argmax(dim=1) == label).tolist())\n",
    "    bar.set_postfix({'acc':sum(acc) / len(acc)})\n",
    "print('acc:', sum(acc) / len(acc))"
   ]
  },
  {
   "cell_type": "code",
   "execution_count": 16,
   "metadata": {
    "ExecuteTime": {
     "end_time": "2021-12-13T16:42:28.026666Z",
     "start_time": "2021-12-13T16:42:27.941509Z"
    }
   },
   "outputs": [],
   "source": [
    "with open('checkpoint_imagenette/ptq8bit/model_weights_quantized.pt', 'wb') as f:\n",
    "    torch.save(q_base_model.state_dict(), f)"
   ]
  },
  {
   "cell_type": "markdown",
   "metadata": {},
   "source": [
    "### 4-bit quantization"
   ]
  },
  {
   "cell_type": "code",
   "execution_count": 12,
   "metadata": {
    "ExecuteTime": {
     "end_time": "2021-12-13T16:43:24.350787Z",
     "start_time": "2021-12-13T16:43:21.512065Z"
    }
   },
   "outputs": [
    {
     "name": "stdout",
     "output_type": "stream",
     "text": [
      "remained state dict odict_keys([])\n"
     ]
    }
   ],
   "source": [
    "# Convert base model to a custom quantization layer with the trained weights\n",
    "c_base_model = quant_aware_resnet_model.CResnet50(num_class=10, q_num_bit=4, \n",
    "                                                  pretrained='checkpoint_imagenette/base_model/model_weights.pt')\n",
    "c_base_model.quantize(True)"
   ]
  },
  {
   "cell_type": "code",
   "execution_count": 13,
   "metadata": {
    "ExecuteTime": {
     "end_time": "2021-12-13T16:44:19.016765Z",
     "start_time": "2021-12-13T16:43:24.353343Z"
    },
    "scrolled": true
   },
   "outputs": [
    {
     "name": "stderr",
     "output_type": "stream",
     "text": [
      "train - epoch:  0: : 74it [00:36,  2.03it/s, loss=2.52]                      \n",
      "val - epoch:  0: : 123it [00:17,  6.93it/s, val_loss=2.31, train_loss=2.52, acc=0.154]                       \n"
     ]
    }
   ],
   "source": [
    "# Forward pass to have quantized weights\n",
    "criterion = nn.CrossEntropyLoss()\n",
    "optimizer = torch.optim.SGD(c_base_model.parameters(), 1e-3, momentum=0.9, weight_decay=1e-5)\n",
    "\n",
    "train_loop.train_model(\n",
    "    train_dl=train_loader, \n",
    "    val_dl=test_loader, \n",
    "    model=c_base_model, \n",
    "    optimizer=optimizer, \n",
    "    criterion=criterion,\n",
    "    clip_value=1e-2,\n",
    "    epochs=1, save='checkpoint_imagenette/ptq4bit'\n",
    ")"
   ]
  },
  {
   "cell_type": "code",
   "execution_count": 14,
   "metadata": {
    "ExecuteTime": {
     "end_time": "2021-12-13T16:44:44.382794Z",
     "start_time": "2021-12-13T16:44:44.317237Z"
    }
   },
   "outputs": [],
   "source": [
    "# Convert to quantized model\n",
    "q_base_model = post_training_quant_model.QResnet50(num_class=10)\n",
    "q_base_model.convert_from(c_base_model)"
   ]
  },
  {
   "cell_type": "code",
   "execution_count": 15,
   "metadata": {
    "ExecuteTime": {
     "end_time": "2021-12-13T16:45:00.416061Z",
     "start_time": "2021-12-13T16:44:44.926640Z"
    }
   },
   "outputs": [
    {
     "name": "stderr",
     "output_type": "stream",
     "text": [
      "100%|██████████| 123/123 [00:15<00:00,  7.96it/s, acc=0.149] "
     ]
    },
    {
     "name": "stdout",
     "output_type": "stream",
     "text": [
      "acc: 0.14929936305732483\n"
     ]
    },
    {
     "name": "stderr",
     "output_type": "stream",
     "text": [
      "\n"
     ]
    }
   ],
   "source": [
    "# Validation accuracy\n",
    "q_base_model.eval()\n",
    "\n",
    "acc = []\n",
    "bar = tqdm.tqdm(test_loader)\n",
    "for x, label in bar:\n",
    "    x, label = x.cuda(), label.cuda()\n",
    "    y = q_base_model(x)\n",
    "    acc.extend((y.argmax(dim=1) == label).tolist())\n",
    "    bar.set_postfix({'acc':sum(acc) / len(acc)})\n",
    "print('acc:', sum(acc) / len(acc))"
   ]
  },
  {
   "cell_type": "code",
   "execution_count": 16,
   "metadata": {
    "ExecuteTime": {
     "end_time": "2021-12-13T16:45:00.505722Z",
     "start_time": "2021-12-13T16:45:00.419487Z"
    }
   },
   "outputs": [],
   "source": [
    "with open('checkpoint_imagenette/ptq4bit/model_weights_quantized.pt', 'wb') as f:\n",
    "    torch.save(q_base_model.state_dict(), f)"
   ]
  },
  {
   "cell_type": "code",
   "execution_count": null,
   "metadata": {},
   "outputs": [],
   "source": []
  },
  {
   "cell_type": "markdown",
   "metadata": {
    "id": "mmpG9_9PO8E5"
   },
   "source": [
    "## Quantization Aware Training"
   ]
  },
  {
   "cell_type": "markdown",
   "metadata": {
    "id": "4PRbWTsmmRhL"
   },
   "source": [
    "### 8-bit quantization"
   ]
  },
  {
   "cell_type": "code",
   "execution_count": 12,
   "metadata": {
    "ExecuteTime": {
     "end_time": "2021-12-13T16:45:57.934969Z",
     "start_time": "2021-12-13T16:45:57.168038Z"
    },
    "colab": {
     "base_uri": "https://localhost:8080/"
    },
    "executionInfo": {
     "elapsed": 872,
     "status": "ok",
     "timestamp": 1639008986864,
     "user": {
      "displayName": "Rifqi Luthfan",
      "photoUrl": "https://lh3.googleusercontent.com/a-/AOh14Gi6REDrzyVNDZl2VT9M3BzwlBYF_1Y_KHDREx_t=s64",
      "userId": "07442021322718158104"
     },
     "user_tz": 300
    },
    "id": "oB6gK6MUO98Z",
    "outputId": "41b3ce18-cba3-4bee-e1f0-8c79f4e48292"
   },
   "outputs": [
    {
     "name": "stdout",
     "output_type": "stream",
     "text": [
      "remained state dict odict_keys(['fc.weight', 'fc.bias'])\n"
     ]
    }
   ],
   "source": [
    "# Create model with custom quantization layer from the start\n",
    "c_base_model = quant_aware_resnet_model.CResnet50(num_class=10, q_num_bit=8, pretrained=True)\n",
    "c_base_model.quantize(True)"
   ]
  },
  {
   "cell_type": "code",
   "execution_count": 13,
   "metadata": {
    "ExecuteTime": {
     "end_time": "2021-12-13T16:54:56.696974Z",
     "start_time": "2021-12-13T16:45:58.629499Z"
    },
    "colab": {
     "base_uri": "https://localhost:8080/"
    },
    "executionInfo": {
     "elapsed": 331716,
     "status": "ok",
     "timestamp": 1639009319891,
     "user": {
      "displayName": "Rifqi Luthfan",
      "photoUrl": "https://lh3.googleusercontent.com/a-/AOh14Gi6REDrzyVNDZl2VT9M3BzwlBYF_1Y_KHDREx_t=s64",
      "userId": "07442021322718158104"
     },
     "user_tz": 300
    },
    "id": "QJFoGEjZNTkA",
    "outputId": "9973e40d-0a42-499a-d085-8f2746212eef"
   },
   "outputs": [
    {
     "name": "stderr",
     "output_type": "stream",
     "text": [
      "train - epoch:  0: : 74it [00:35,  2.09it/s, loss=0.686]                      \n",
      "val - epoch:  0: : 123it [00:18,  6.82it/s, val_loss=0.241, train_loss=0.686, acc=0.929]                       \n",
      "train - epoch:  1: : 74it [00:34,  2.15it/s, loss=0.295]                      \n",
      "val - epoch:  1: : 123it [00:18,  6.75it/s, val_loss=0.21, train_loss=0.295, acc=0.941]                        \n",
      "train - epoch:  2: : 74it [00:35,  2.10it/s, loss=0.275]                      \n",
      "val - epoch:  2: : 123it [00:20,  6.09it/s, val_loss=0.173, train_loss=0.275, acc=0.947]                       \n",
      "train - epoch:  3: : 74it [00:34,  2.12it/s, loss=0.254]                      \n",
      "val - epoch:  3: : 123it [00:17,  6.84it/s, val_loss=0.196, train_loss=0.254, acc=0.939]                       \n",
      "train - epoch:  4: : 74it [00:34,  2.14it/s, loss=0.232]                      \n",
      "val - epoch:  4: : 123it [00:17,  6.87it/s, val_loss=0.169, train_loss=0.232, acc=0.952]                       \n",
      "train - epoch:  5: : 74it [00:34,  2.18it/s, loss=0.228]                      \n",
      "val - epoch:  5: : 123it [00:17,  6.93it/s, val_loss=0.177, train_loss=0.228, acc=0.942]                       \n",
      "train - epoch:  6: : 74it [00:35,  2.07it/s, loss=0.216]                      \n",
      "val - epoch:  6: : 123it [00:18,  6.66it/s, val_loss=0.177, train_loss=0.216, acc=0.946]                       \n",
      "train - epoch:  7: : 74it [00:35,  2.08it/s, loss=0.2]                        \n",
      "val - epoch:  7: : 123it [00:17,  6.86it/s, val_loss=0.148, train_loss=0.2, acc=0.952]                       \n",
      "train - epoch:  8: : 74it [00:34,  2.12it/s, loss=0.186]                      \n",
      "val - epoch:  8: : 123it [00:18,  6.82it/s, val_loss=0.169, train_loss=0.186, acc=0.947]                       \n",
      "train - epoch:  9: : 74it [00:34,  2.17it/s, loss=0.177]                      \n",
      "val - epoch:  9: : 123it [00:17,  7.00it/s, val_loss=0.148, train_loss=0.177, acc=0.956]                       \n"
     ]
    }
   ],
   "source": [
    "# Training Loop\n",
    "criterion = nn.CrossEntropyLoss()\n",
    "optimizer = torch.optim.SGD(c_base_model.parameters(), 1e-3, momentum=0.9, weight_decay=1e-5)\n",
    "\n",
    "train_loop.train_model(\n",
    "    train_dl=train_loader, \n",
    "    val_dl=test_loader, \n",
    "    model=c_base_model, \n",
    "    optimizer=optimizer, \n",
    "    criterion=criterion,\n",
    "    clip_value=1e-2,\n",
    "    epochs=N_EPOCH, save='checkpoint_imagenette/qat8bit'\n",
    ")"
   ]
  },
  {
   "cell_type": "code",
   "execution_count": 14,
   "metadata": {
    "ExecuteTime": {
     "end_time": "2021-12-13T16:55:19.794109Z",
     "start_time": "2021-12-13T16:55:19.721963Z"
    },
    "id": "muNQF34RWwZ6"
   },
   "outputs": [],
   "source": [
    "# Convert to quantized model\n",
    "q_base_model = post_training_quant_model.QResnet50(num_class=10)\n",
    "q_base_model.convert_from(c_base_model)"
   ]
  },
  {
   "cell_type": "code",
   "execution_count": 15,
   "metadata": {
    "ExecuteTime": {
     "end_time": "2021-12-13T16:55:36.203937Z",
     "start_time": "2021-12-13T16:55:20.656341Z"
    },
    "colab": {
     "base_uri": "https://localhost:8080/"
    },
    "executionInfo": {
     "elapsed": 6681,
     "status": "ok",
     "timestamp": 1639009326731,
     "user": {
      "displayName": "Rifqi Luthfan",
      "photoUrl": "https://lh3.googleusercontent.com/a-/AOh14Gi6REDrzyVNDZl2VT9M3BzwlBYF_1Y_KHDREx_t=s64",
      "userId": "07442021322718158104"
     },
     "user_tz": 300
    },
    "id": "UPl1MlvHJHOY",
    "outputId": "8fd185d3-fcd2-4124-e81e-ec5f23efad93"
   },
   "outputs": [
    {
     "name": "stderr",
     "output_type": "stream",
     "text": [
      "100%|██████████| 123/123 [00:15<00:00,  7.93it/s, acc=0.956]"
     ]
    },
    {
     "name": "stdout",
     "output_type": "stream",
     "text": [
      "acc: 0.9556687898089172\n"
     ]
    },
    {
     "name": "stderr",
     "output_type": "stream",
     "text": [
      "\n"
     ]
    }
   ],
   "source": [
    "# Validation accuracy\n",
    "q_base_model.eval()\n",
    "\n",
    "acc = []\n",
    "bar = tqdm.tqdm(test_loader)\n",
    "for x, label in bar:\n",
    "    x, label = x.cuda(), label.cuda()\n",
    "    y = q_base_model(x)\n",
    "    acc.extend((y.argmax(dim=1) == label).tolist())\n",
    "    bar.set_postfix({'acc':sum(acc) / len(acc)})\n",
    "print('acc:', sum(acc) / len(acc))"
   ]
  },
  {
   "cell_type": "code",
   "execution_count": 16,
   "metadata": {
    "ExecuteTime": {
     "end_time": "2021-12-13T16:55:37.221162Z",
     "start_time": "2021-12-13T16:55:37.141995Z"
    }
   },
   "outputs": [],
   "source": [
    "with open('checkpoint_imagenette/qat8bit/model_weights_quantized.pt', 'wb') as f:\n",
    "    torch.save(q_base_model.state_dict(), f)"
   ]
  },
  {
   "cell_type": "markdown",
   "metadata": {},
   "source": [
    "### 4-bit quantization"
   ]
  },
  {
   "cell_type": "code",
   "execution_count": 12,
   "metadata": {
    "ExecuteTime": {
     "end_time": "2021-12-13T16:56:38.351188Z",
     "start_time": "2021-12-13T16:56:37.552867Z"
    }
   },
   "outputs": [
    {
     "name": "stdout",
     "output_type": "stream",
     "text": [
      "remained state dict odict_keys(['fc.weight', 'fc.bias'])\n"
     ]
    }
   ],
   "source": [
    "# Create model with custom quantization layer from the start\n",
    "c_base_model = quant_aware_resnet_model.CResnet50(num_class=10, q_num_bit=4, pretrained=True)\n",
    "c_base_model.quantize(True)"
   ]
  },
  {
   "cell_type": "code",
   "execution_count": 13,
   "metadata": {
    "ExecuteTime": {
     "end_time": "2021-12-13T17:05:30.460130Z",
     "start_time": "2021-12-13T16:56:39.798092Z"
    }
   },
   "outputs": [
    {
     "name": "stderr",
     "output_type": "stream",
     "text": [
      "train - epoch:  0: : 74it [00:36,  2.03it/s, loss=4.77]                      \n",
      "val - epoch:  0: : 123it [00:17,  6.85it/s, val_loss=3.44, train_loss=4.77, acc=0.122]                       \n",
      "train - epoch:  1: : 74it [00:34,  2.11it/s, loss=3.33]                      \n",
      "val - epoch:  1: : 123it [00:17,  7.05it/s, val_loss=3.26, train_loss=3.33, acc=0.127]                       \n",
      "train - epoch:  2: : 74it [00:34,  2.15it/s, loss=3.11]                      \n",
      "val - epoch:  2: : 123it [00:18,  6.79it/s, val_loss=2.86, train_loss=3.11, acc=0.122]                       \n",
      "train - epoch:  3: : 74it [00:33,  2.19it/s, loss=2.72]                      \n",
      "val - epoch:  3: : 123it [00:17,  6.93it/s, val_loss=2.62, train_loss=2.72, acc=0.121]                       \n",
      "train - epoch:  4: : 74it [00:34,  2.14it/s, loss=2.43]                      \n",
      "val - epoch:  4: : 123it [00:17,  6.97it/s, val_loss=2.41, train_loss=2.43, acc=0.13]                        \n",
      "train - epoch:  5: : 74it [00:34,  2.17it/s, loss=2.48]                      \n",
      "val - epoch:  5: : 123it [00:17,  7.05it/s, val_loss=2.48, train_loss=2.48, acc=0.132]                       \n",
      "train - epoch:  6: : 74it [00:34,  2.12it/s, loss=2.52]                      \n",
      "val - epoch:  6: : 123it [00:17,  7.03it/s, val_loss=2.52, train_loss=2.52, acc=0.135]                       \n",
      "train - epoch:  7: : 74it [00:34,  2.13it/s, loss=2.58]                      \n",
      "val - epoch:  7: : 123it [00:17,  6.98it/s, val_loss=2.64, train_loss=2.58, acc=0.138]                       \n",
      "train - epoch:  8: : 74it [00:34,  2.14it/s, loss=2.66]                      \n",
      "val - epoch:  8: : 123it [00:17,  7.10it/s, val_loss=2.64, train_loss=2.66, acc=0.136]                       \n",
      "train - epoch:  9: : 74it [00:34,  2.13it/s, loss=2.64]                      \n",
      "val - epoch:  9: : 123it [00:18,  6.73it/s, val_loss=2.64, train_loss=2.64, acc=0.146]                       \n"
     ]
    }
   ],
   "source": [
    "# Training Loop\n",
    "criterion = nn.CrossEntropyLoss()\n",
    "optimizer = torch.optim.SGD(c_base_model.parameters(), 1e-3, momentum=0.9, weight_decay=1e-5)\n",
    "\n",
    "train_loop.train_model(\n",
    "    train_dl=train_loader, \n",
    "    val_dl=test_loader, \n",
    "    model=c_base_model, \n",
    "    optimizer=optimizer, \n",
    "    criterion=criterion,\n",
    "    clip_value=1e-2,\n",
    "    epochs=N_EPOCH, save='checkpoint_imagenette/qat4bit'\n",
    ")"
   ]
  },
  {
   "cell_type": "code",
   "execution_count": 14,
   "metadata": {
    "ExecuteTime": {
     "end_time": "2021-12-13T17:05:30.533862Z",
     "start_time": "2021-12-13T17:05:30.463284Z"
    }
   },
   "outputs": [],
   "source": [
    "# Convert to quantized model\n",
    "q_base_model = post_training_quant_model.QResnet50(num_class=10)\n",
    "q_base_model.convert_from(c_base_model)"
   ]
  },
  {
   "cell_type": "code",
   "execution_count": 15,
   "metadata": {
    "ExecuteTime": {
     "end_time": "2021-12-13T17:05:46.636359Z",
     "start_time": "2021-12-13T17:05:30.535818Z"
    }
   },
   "outputs": [
    {
     "name": "stderr",
     "output_type": "stream",
     "text": [
      "100%|██████████| 123/123 [00:16<00:00,  7.65it/s, acc=0.0968]"
     ]
    },
    {
     "name": "stdout",
     "output_type": "stream",
     "text": [
      "acc: 0.09681528662420383\n"
     ]
    },
    {
     "name": "stderr",
     "output_type": "stream",
     "text": [
      "\n"
     ]
    }
   ],
   "source": [
    "# Validation accuracy\n",
    "q_base_model.eval()\n",
    "\n",
    "acc = []\n",
    "bar = tqdm.tqdm(test_loader)\n",
    "for x, label in bar:\n",
    "    x, label = x.cuda(), label.cuda()\n",
    "    y = q_base_model(x)\n",
    "    acc.extend((y.argmax(dim=1) == label).tolist())\n",
    "    bar.set_postfix({'acc':sum(acc) / len(acc)})\n",
    "print('acc:', sum(acc) / len(acc))"
   ]
  },
  {
   "cell_type": "code",
   "execution_count": 16,
   "metadata": {
    "ExecuteTime": {
     "end_time": "2021-12-13T17:05:46.736333Z",
     "start_time": "2021-12-13T17:05:46.641087Z"
    }
   },
   "outputs": [],
   "source": [
    "with open('checkpoint_imagenette/qat4bit/model_weights_quantized.pt', 'wb') as f:\n",
    "    torch.save(q_base_model.state_dict(), f)"
   ]
  },
  {
   "cell_type": "code",
   "execution_count": null,
   "metadata": {},
   "outputs": [],
   "source": []
  },
  {
   "cell_type": "code",
   "execution_count": null,
   "metadata": {},
   "outputs": [],
   "source": []
  }
 ],
 "metadata": {
  "accelerator": "GPU",
  "colab": {
   "authorship_tag": "ABX9TyOh2T6Tj/G/RPl19+iwVusG",
   "collapsed_sections": [],
   "name": "CIFAR10.ipynb",
   "provenance": []
  },
  "kernelspec": {
   "display_name": "Python 3",
   "language": "python",
   "name": "python3"
  },
  "language_info": {
   "codemirror_mode": {
    "name": "ipython",
    "version": 3
   },
   "file_extension": ".py",
   "mimetype": "text/x-python",
   "name": "python",
   "nbconvert_exporter": "python",
   "pygments_lexer": "ipython3",
   "version": "3.7.12"
  },
  "toc": {
   "base_numbering": 1,
   "nav_menu": {},
   "number_sections": true,
   "sideBar": true,
   "skip_h1_title": false,
   "title_cell": "Table of Contents",
   "title_sidebar": "Contents",
   "toc_cell": false,
   "toc_position": {
    "height": "calc(100% - 180px)",
    "left": "10px",
    "top": "150px",
    "width": "302.4px"
   },
   "toc_section_display": true,
   "toc_window_display": true
  }
 },
 "nbformat": 4,
 "nbformat_minor": 1
}
