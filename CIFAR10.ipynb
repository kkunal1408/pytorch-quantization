{
 "cells": [
  {
   "cell_type": "markdown",
   "metadata": {
    "id": "K9ILC73dI9G9"
   },
   "source": [
    "# Initialization"
   ]
  },
  {
   "cell_type": "markdown",
   "metadata": {
    "id": "is8dFihPJRmW"
   },
   "source": [
    "## Import Libraries"
   ]
  },
  {
   "cell_type": "code",
   "execution_count": 1,
   "metadata": {
    "ExecuteTime": {
     "end_time": "2021-12-12T22:36:25.108009Z",
     "start_time": "2021-12-12T22:36:24.093810Z"
    },
    "executionInfo": {
     "elapsed": 1256,
     "status": "ok",
     "timestamp": 1639339325481,
     "user": {
      "displayName": "Rifqi Luthfan",
      "photoUrl": "https://lh3.googleusercontent.com/a-/AOh14Gi6REDrzyVNDZl2VT9M3BzwlBYF_1Y_KHDREx_t=s64",
      "userId": "07442021322718158104"
     },
     "user_tz": 300
    },
    "id": "OYR89FOfI37J"
   },
   "outputs": [],
   "source": [
    "from __future__ import print_function\n",
    "import argparse\n",
    "import torch\n",
    "import torch.nn as nn\n",
    "import torch.nn.functional as F\n",
    "import torch.optim as optim\n",
    "import torchvision\n",
    "from torchvision import datasets, transforms\n"
   ]
  },
  {
   "cell_type": "code",
   "execution_count": 2,
   "metadata": {
    "ExecuteTime": {
     "end_time": "2021-12-12T22:36:25.114078Z",
     "start_time": "2021-12-12T22:36:25.109906Z"
    },
    "executionInfo": {
     "elapsed": 7,
     "status": "ok",
     "timestamp": 1639339325484,
     "user": {
      "displayName": "Rifqi Luthfan",
      "photoUrl": "https://lh3.googleusercontent.com/a-/AOh14Gi6REDrzyVNDZl2VT9M3BzwlBYF_1Y_KHDREx_t=s64",
      "userId": "07442021322718158104"
     },
     "user_tz": 300
    },
    "id": "PW9VU5jIJOeK"
   },
   "outputs": [],
   "source": [
    "from collections import namedtuple\n",
    "import tqdm"
   ]
  },
  {
   "cell_type": "code",
   "execution_count": 3,
   "metadata": {
    "ExecuteTime": {
     "end_time": "2021-12-12T22:36:25.718506Z",
     "start_time": "2021-12-12T22:36:25.115726Z"
    },
    "colab": {
     "base_uri": "https://localhost:8080/",
     "height": 36
    },
    "executionInfo": {
     "elapsed": 6,
     "status": "ok",
     "timestamp": 1639339325484,
     "user": {
      "displayName": "Rifqi Luthfan",
      "photoUrl": "https://lh3.googleusercontent.com/a-/AOh14Gi6REDrzyVNDZl2VT9M3BzwlBYF_1Y_KHDREx_t=s64",
      "userId": "07442021322718158104"
     },
     "user_tz": 300
    },
    "id": "EAFb1zouJO0h",
    "outputId": "4224118a-ac2f-4080-a8f1-190b7df4f375"
   },
   "outputs": [
    {
     "data": {
      "text/plain": [
       "'Tesla V100-SXM2-16GB'"
      ]
     },
     "execution_count": 3,
     "metadata": {},
     "output_type": "execute_result"
    }
   ],
   "source": [
    "# make sure GPU is being used \n",
    "torch.cuda.current_device() \n",
    "torch.cuda.device(0)\n",
    "torch.cuda.get_device_name(0)"
   ]
  },
  {
   "cell_type": "code",
   "execution_count": 4,
   "metadata": {
    "ExecuteTime": {
     "end_time": "2021-12-12T22:36:25.753776Z",
     "start_time": "2021-12-12T22:36:25.720554Z"
    }
   },
   "outputs": [],
   "source": [
    "# Notebook auto reloads code. (Ref: http://stackoverflow.com/questions/1907993/autoreload-of-modules-in-ipython)\n",
    "%load_ext autoreload\n",
    "%autoreload 2"
   ]
  },
  {
   "cell_type": "markdown",
   "metadata": {
    "id": "Jn0LWLskJToR"
   },
   "source": [
    "## Import Created Modules"
   ]
  },
  {
   "cell_type": "code",
   "execution_count": 5,
   "metadata": {
    "ExecuteTime": {
     "end_time": "2021-12-12T22:36:25.777656Z",
     "start_time": "2021-12-12T22:36:25.755272Z"
    },
    "id": "A9Df0-4YJV1H"
   },
   "outputs": [],
   "source": [
    "from quantization_functions import quant_aware_layers, quant_aware_resnet_model\n",
    "from quantization_functions import post_training_quant_layers, post_training_quant_model\n",
    "from quantization_functions import train_loop"
   ]
  },
  {
   "cell_type": "markdown",
   "metadata": {
    "id": "AMMfGCwTLWsq"
   },
   "source": [
    "## Load Dataset"
   ]
  },
  {
   "cell_type": "code",
   "execution_count": 6,
   "metadata": {
    "ExecuteTime": {
     "end_time": "2021-12-12T22:36:27.604404Z",
     "start_time": "2021-12-12T22:36:27.588928Z"
    },
    "id": "b4-R5xIcLmdt"
   },
   "outputs": [],
   "source": [
    "BATCH_SIZE = 64\n",
    "TEST_BATCH_SIZE = 64\n",
    "N_CLASS = 10"
   ]
  },
  {
   "cell_type": "code",
   "execution_count": 7,
   "metadata": {
    "ExecuteTime": {
     "end_time": "2021-12-12T22:36:29.905218Z",
     "start_time": "2021-12-12T22:36:28.333905Z"
    },
    "colab": {
     "base_uri": "https://localhost:8080/"
    },
    "executionInfo": {
     "elapsed": 1962,
     "status": "ok",
     "timestamp": 1639008244643,
     "user": {
      "displayName": "Rifqi Luthfan",
      "photoUrl": "https://lh3.googleusercontent.com/a-/AOh14Gi6REDrzyVNDZl2VT9M3BzwlBYF_1Y_KHDREx_t=s64",
      "userId": "07442021322718158104"
     },
     "user_tz": 300
    },
    "id": "NOLdHAlGLWH-",
    "outputId": "5481f0d0-f207-474d-e7e7-2827e14233fa"
   },
   "outputs": [
    {
     "name": "stdout",
     "output_type": "stream",
     "text": [
      "Files already downloaded and verified\n",
      "Files already downloaded and verified\n"
     ]
    }
   ],
   "source": [
    "transform = transforms.Compose([\n",
    "    transforms.ToTensor(),\n",
    "    transforms.Normalize((0.5, 0.5, 0.5), (0.5, 0.5, 0.5))\n",
    "])\n",
    "    \n",
    "trainset = datasets.CIFAR10(root='./dataCifar', train=True, download=True, transform=transform)\n",
    "\n",
    "train_loader = torch.utils.data.DataLoader(trainset, batch_size=BATCH_SIZE, shuffle=True, num_workers=2)\n",
    "\n",
    "testset = datasets.CIFAR10(root='./dataCifar', train=False, download=True, transform=transform)\n",
    "\n",
    "test_loader = torch.utils.data.DataLoader(testset, batch_size=TEST_BATCH_SIZE, shuffle=False, num_workers=2)"
   ]
  },
  {
   "cell_type": "markdown",
   "metadata": {
    "id": "z378KmkPI8n2"
   },
   "source": [
    "# Models"
   ]
  },
  {
   "cell_type": "code",
   "execution_count": 8,
   "metadata": {
    "ExecuteTime": {
     "end_time": "2021-12-12T22:36:31.007183Z",
     "start_time": "2021-12-12T22:36:30.990777Z"
    },
    "id": "EM6H0tupNLeT"
   },
   "outputs": [],
   "source": [
    "N_EPOCH = 3"
   ]
  },
  {
   "cell_type": "markdown",
   "metadata": {
    "id": "XxyL_hxTNL6j"
   },
   "source": [
    "## Base model"
   ]
  },
  {
   "cell_type": "code",
   "execution_count": 8,
   "metadata": {
    "ExecuteTime": {
     "end_time": "2021-12-12T20:48:06.698076Z",
     "start_time": "2021-12-12T20:48:03.714259Z"
    },
    "id": "Wfw_BQo0fhPF"
   },
   "outputs": [
    {
     "name": "stderr",
     "output_type": "stream",
     "text": [
      "Downloading: \"https://download.pytorch.org/models/resnet50-0676ba61.pth\" to /home/ecbm4040/.cache/torch/hub/checkpoints/resnet50-0676ba61.pth\n"
     ]
    },
    {
     "data": {
      "application/vnd.jupyter.widget-view+json": {
       "model_id": "ba8d3d7042f14eab9dc0980d236c60a1",
       "version_major": 2,
       "version_minor": 0
      },
      "text/plain": [
       "  0%|          | 0.00/97.8M [00:00<?, ?B/s]"
      ]
     },
     "metadata": {},
     "output_type": "display_data"
    }
   ],
   "source": [
    "base_model = torchvision.models.resnet50(pretrained=True)\n",
    "base_model.fc = nn.Linear(base_model.fc.in_features, N_CLASS) # Change top layer"
   ]
  },
  {
   "cell_type": "code",
   "execution_count": 9,
   "metadata": {
    "ExecuteTime": {
     "end_time": "2021-12-12T20:50:53.743152Z",
     "start_time": "2021-12-12T20:48:09.363589Z"
    },
    "colab": {
     "background_save": true,
     "base_uri": "https://localhost:8080/"
    },
    "id": "_fFaNnSSNXwv",
    "outputId": "afc949b1-8e19-4233-cc01-2074798aa750"
   },
   "outputs": [
    {
     "name": "stderr",
     "output_type": "stream",
     "text": [
      "train - epoch:  0: : 782it [00:50, 15.59it/s, loss=0.959]                       \n",
      "val - epoch:  0: : 157it [00:04, 34.02it/s, val_loss=0.61, train_loss=0.959, acc=0.791]                        \n",
      "train - epoch:  1: : 782it [00:48, 16.08it/s, loss=0.495]                       \n",
      "val - epoch:  1: : 157it [00:04, 37.57it/s, val_loss=0.533, train_loss=0.495, acc=0.822]                       \n",
      "train - epoch:  2: : 782it [00:48, 16.00it/s, loss=0.326]                       \n",
      "val - epoch:  2: : 157it [00:04, 37.16it/s, val_loss=0.533, train_loss=0.326, acc=0.826]                       \n"
     ]
    }
   ],
   "source": [
    "### Train Loop\n",
    "criterion = nn.CrossEntropyLoss()\n",
    "optimizer = torch.optim.SGD(base_model.parameters(), 1e-3, momentum=0.9, weight_decay=1e-5)\n",
    "\n",
    "train_loop.train_model(\n",
    "    train_dl=train_loader, \n",
    "    val_dl=test_loader, \n",
    "    model=base_model, \n",
    "    optimizer=optimizer, \n",
    "    criterion=criterion,\n",
    "    epochs=N_EPOCH, save='checkpoint/base_model'\n",
    ")"
   ]
  },
  {
   "cell_type": "code",
   "execution_count": 10,
   "metadata": {
    "ExecuteTime": {
     "end_time": "2021-12-12T20:51:02.032990Z",
     "start_time": "2021-12-12T20:50:57.844138Z"
    },
    "colab": {
     "background_save": true
    },
    "id": "aJyLHCM8bBFH",
    "outputId": "a99eb48f-4de7-4dbd-9fda-3a610e181b24"
   },
   "outputs": [
    {
     "name": "stderr",
     "output_type": "stream",
     "text": [
      "100%|██████████| 157/157 [00:04<00:00, 37.57it/s, acc=0.826]"
     ]
    },
    {
     "name": "stdout",
     "output_type": "stream",
     "text": [
      "acc: 0.8258\n"
     ]
    },
    {
     "name": "stderr",
     "output_type": "stream",
     "text": [
      "\n"
     ]
    }
   ],
   "source": [
    "base_model.eval()\n",
    "\n",
    "acc = []\n",
    "bar = tqdm.tqdm(test_loader)\n",
    "for x, label in bar:\n",
    "    x, label = x.cuda(), label.cuda()\n",
    "    y = base_model(x)\n",
    "    acc.extend((y.argmax(dim=1) == label).tolist())\n",
    "    bar.set_postfix({'acc':sum(acc) / len(acc)})\n",
    "print('acc:', sum(acc) / len(acc))"
   ]
  },
  {
   "cell_type": "markdown",
   "metadata": {
    "id": "o8y6NZlHQYZH"
   },
   "source": [
    "## Post Training Quantization"
   ]
  },
  {
   "cell_type": "markdown",
   "metadata": {
    "id": "frTh5sWvmCXA"
   },
   "source": [
    "### 8 bit quantization"
   ]
  },
  {
   "cell_type": "code",
   "execution_count": 17,
   "metadata": {
    "ExecuteTime": {
     "end_time": "2021-12-12T22:45:10.616181Z",
     "start_time": "2021-12-12T22:45:10.286671Z"
    },
    "colab": {
     "base_uri": "https://localhost:8080/"
    },
    "executionInfo": {
     "elapsed": 276,
     "status": "ok",
     "timestamp": 1639008821078,
     "user": {
      "displayName": "Rifqi Luthfan",
      "photoUrl": "https://lh3.googleusercontent.com/a-/AOh14Gi6REDrzyVNDZl2VT9M3BzwlBYF_1Y_KHDREx_t=s64",
      "userId": "07442021322718158104"
     },
     "user_tz": 300
    },
    "id": "GL29AUmrR3Vf",
    "outputId": "edc37568-38c8-45df-94b2-88d16b092703"
   },
   "outputs": [
    {
     "name": "stdout",
     "output_type": "stream",
     "text": [
      "remained state dict odict_keys([])\n"
     ]
    }
   ],
   "source": [
    "# Convert base model to a custom quantization layer with the trained weights\n",
    "c_base_model = quant_aware_resnet_model.CResnet50(num_class=10, q_num_bit=8, pretrained='checkpoint/base_model/model_weights.pt')\n",
    "c_base_model.quantize(True)"
   ]
  },
  {
   "cell_type": "code",
   "execution_count": 18,
   "metadata": {
    "ExecuteTime": {
     "end_time": "2021-12-12T22:46:58.004983Z",
     "start_time": "2021-12-12T22:45:11.410083Z"
    },
    "colab": {
     "base_uri": "https://localhost:8080/"
    },
    "executionInfo": {
     "elapsed": 109704,
     "status": "ok",
     "timestamp": 1639008945820,
     "user": {
      "displayName": "Rifqi Luthfan",
      "photoUrl": "https://lh3.googleusercontent.com/a-/AOh14Gi6REDrzyVNDZl2VT9M3BzwlBYF_1Y_KHDREx_t=s64",
      "userId": "07442021322718158104"
     },
     "user_tz": 300
    },
    "id": "piIpEik6S1kR",
    "outputId": "a3441a92-e8a4-4dee-f98a-a7362d7495eb"
   },
   "outputs": [
    {
     "name": "stderr",
     "output_type": "stream",
     "text": [
      "train - epoch:  0: : 782it [01:32,  8.41it/s, loss=0.8]                         \n",
      "val - epoch:  0: : 157it [00:12, 12.41it/s, val_loss=0.733, train_loss=0.8, acc=0.747]                       \n"
     ]
    }
   ],
   "source": [
    "# Forward pass to have quantized weights\n",
    "criterion = nn.CrossEntropyLoss()\n",
    "optimizer = torch.optim.SGD(c_base_model.parameters(), 1e-3, momentum=0.9, weight_decay=1e-5)\n",
    "\n",
    "train_loop.train_model(\n",
    "    train_dl=train_loader, \n",
    "    val_dl=test_loader, \n",
    "    model=c_base_model, \n",
    "    optimizer=optimizer, \n",
    "    criterion=criterion,\n",
    "    epochs=1, save='checkpoint/ptq'\n",
    ")"
   ]
  },
  {
   "cell_type": "code",
   "execution_count": 19,
   "metadata": {
    "ExecuteTime": {
     "end_time": "2021-12-12T22:47:03.028066Z",
     "start_time": "2021-12-12T22:47:02.969465Z"
    },
    "id": "aoISQcR-PuoY"
   },
   "outputs": [],
   "source": [
    "# Convert to quantized model\n",
    "q_base_model = post_training_quant_model.QResnet50(num_class=10)\n",
    "q_base_model.convert_from(c_base_model)"
   ]
  },
  {
   "cell_type": "code",
   "execution_count": 20,
   "metadata": {
    "ExecuteTime": {
     "end_time": "2021-12-12T22:47:13.891851Z",
     "start_time": "2021-12-12T22:47:04.144764Z"
    },
    "colab": {
     "base_uri": "https://localhost:8080/"
    },
    "executionInfo": {
     "elapsed": 6937,
     "status": "ok",
     "timestamp": 1639008967545,
     "user": {
      "displayName": "Rifqi Luthfan",
      "photoUrl": "https://lh3.googleusercontent.com/a-/AOh14Gi6REDrzyVNDZl2VT9M3BzwlBYF_1Y_KHDREx_t=s64",
      "userId": "07442021322718158104"
     },
     "user_tz": 300
    },
    "id": "K1vVMgjqQbUF",
    "outputId": "0b625bf7-9840-4e65-bef6-315fa33cca8e"
   },
   "outputs": [
    {
     "name": "stderr",
     "output_type": "stream",
     "text": [
      "100%|██████████| 157/157 [00:09<00:00, 16.15it/s, acc=0.746]"
     ]
    },
    {
     "name": "stdout",
     "output_type": "stream",
     "text": [
      "acc: 0.7463\n"
     ]
    },
    {
     "name": "stderr",
     "output_type": "stream",
     "text": [
      "\n"
     ]
    }
   ],
   "source": [
    "q_base_model.eval()\n",
    "\n",
    "acc = []\n",
    "bar = tqdm.tqdm(test_loader)\n",
    "for x, label in bar:\n",
    "    x, label = x.cuda(), label.cuda()\n",
    "    y = q_base_model(x)\n",
    "    acc.extend((y.argmax(dim=1) == label).tolist())\n",
    "    bar.set_postfix({'acc':sum(acc) / len(acc)})\n",
    "print('acc:', sum(acc) / len(acc))"
   ]
  },
  {
   "cell_type": "markdown",
   "metadata": {},
   "source": [
    "### 4-bit quantization"
   ]
  },
  {
   "cell_type": "code",
   "execution_count": null,
   "metadata": {},
   "outputs": [],
   "source": []
  },
  {
   "cell_type": "code",
   "execution_count": null,
   "metadata": {},
   "outputs": [],
   "source": []
  },
  {
   "cell_type": "code",
   "execution_count": null,
   "metadata": {
    "colab": {
     "background_save": true
    },
    "id": "Mr02KPVGN8Wo"
   },
   "outputs": [],
   "source": []
  },
  {
   "cell_type": "markdown",
   "metadata": {
    "id": "mmpG9_9PO8E5"
   },
   "source": [
    "## Quantization Aware Training"
   ]
  },
  {
   "cell_type": "markdown",
   "metadata": {
    "id": "4PRbWTsmmRhL"
   },
   "source": [
    "### 8-bit quantization"
   ]
  },
  {
   "cell_type": "code",
   "execution_count": 13,
   "metadata": {
    "ExecuteTime": {
     "end_time": "2021-12-12T22:39:26.179828Z",
     "start_time": "2021-12-12T22:39:25.436433Z"
    },
    "colab": {
     "base_uri": "https://localhost:8080/"
    },
    "executionInfo": {
     "elapsed": 872,
     "status": "ok",
     "timestamp": 1639008986864,
     "user": {
      "displayName": "Rifqi Luthfan",
      "photoUrl": "https://lh3.googleusercontent.com/a-/AOh14Gi6REDrzyVNDZl2VT9M3BzwlBYF_1Y_KHDREx_t=s64",
      "userId": "07442021322718158104"
     },
     "user_tz": 300
    },
    "id": "oB6gK6MUO98Z",
    "outputId": "41b3ce18-cba3-4bee-e1f0-8c79f4e48292"
   },
   "outputs": [
    {
     "name": "stdout",
     "output_type": "stream",
     "text": [
      "remained state dict odict_keys(['fc.weight', 'fc.bias'])\n"
     ]
    }
   ],
   "source": [
    "# Create model with custom quantization layer from the start\n",
    "c_base_model = quant_aware_resnet_model.CResnet50(num_class=10, q_num_bit=8, pretrained=True)\n",
    "c_base_model.quantize(True)"
   ]
  },
  {
   "cell_type": "code",
   "execution_count": 14,
   "metadata": {
    "ExecuteTime": {
     "end_time": "2021-12-12T22:44:48.246182Z",
     "start_time": "2021-12-12T22:39:29.571035Z"
    },
    "colab": {
     "base_uri": "https://localhost:8080/"
    },
    "executionInfo": {
     "elapsed": 331716,
     "status": "ok",
     "timestamp": 1639009319891,
     "user": {
      "displayName": "Rifqi Luthfan",
      "photoUrl": "https://lh3.googleusercontent.com/a-/AOh14Gi6REDrzyVNDZl2VT9M3BzwlBYF_1Y_KHDREx_t=s64",
      "userId": "07442021322718158104"
     },
     "user_tz": 300
    },
    "id": "QJFoGEjZNTkA",
    "outputId": "9973e40d-0a42-499a-d085-8f2746212eef"
   },
   "outputs": [
    {
     "name": "stderr",
     "output_type": "stream",
     "text": [
      "train - epoch:  0: : 782it [01:33,  8.39it/s, loss=1.13]                       \n",
      "val - epoch:  0: : 157it [00:12, 12.81it/s, val_loss=0.885, train_loss=1.13, acc=0.699]                       \n",
      "train - epoch:  1: : 782it [01:32,  8.46it/s, loss=0.729]                       \n",
      "val - epoch:  1: : 157it [00:12, 12.40it/s, val_loss=0.723, train_loss=0.729, acc=0.754]                       \n",
      "train - epoch:  2: : 782it [01:32,  8.41it/s, loss=0.6]                         \n",
      "val - epoch:  2: : 157it [00:12, 12.46it/s, val_loss=0.676, train_loss=0.6, acc=0.772]                       \n"
     ]
    }
   ],
   "source": [
    "# Training Loop\n",
    "criterion = nn.CrossEntropyLoss()\n",
    "optimizer = torch.optim.SGD(c_base_model.parameters(), 1e-3, momentum=0.9, weight_decay=1e-5)\n",
    "\n",
    "train_loop.train_model(\n",
    "    train_dl=train_loader, \n",
    "    val_dl=test_loader, \n",
    "    model=c_base_model, \n",
    "    optimizer=optimizer, \n",
    "    criterion=criterion,\n",
    "    epochs=N_EPOCH, save='checkpoint/qat'\n",
    ")"
   ]
  },
  {
   "cell_type": "code",
   "execution_count": 15,
   "metadata": {
    "ExecuteTime": {
     "end_time": "2021-12-12T22:44:48.309757Z",
     "start_time": "2021-12-12T22:44:48.250340Z"
    },
    "id": "muNQF34RWwZ6"
   },
   "outputs": [],
   "source": [
    "# Convert to quantized model\n",
    "q_base_model = post_training_quant_model.QResnet50(num_class=10)\n",
    "q_base_model.convert_from(c_base_model)"
   ]
  },
  {
   "cell_type": "code",
   "execution_count": 16,
   "metadata": {
    "ExecuteTime": {
     "end_time": "2021-12-12T22:44:58.142798Z",
     "start_time": "2021-12-12T22:44:48.311598Z"
    },
    "colab": {
     "base_uri": "https://localhost:8080/"
    },
    "executionInfo": {
     "elapsed": 6681,
     "status": "ok",
     "timestamp": 1639009326731,
     "user": {
      "displayName": "Rifqi Luthfan",
      "photoUrl": "https://lh3.googleusercontent.com/a-/AOh14Gi6REDrzyVNDZl2VT9M3BzwlBYF_1Y_KHDREx_t=s64",
      "userId": "07442021322718158104"
     },
     "user_tz": 300
    },
    "id": "UPl1MlvHJHOY",
    "outputId": "8fd185d3-fcd2-4124-e81e-ec5f23efad93"
   },
   "outputs": [
    {
     "name": "stderr",
     "output_type": "stream",
     "text": [
      "100%|██████████| 157/157 [00:09<00:00, 16.05it/s, acc=0.772]"
     ]
    },
    {
     "name": "stdout",
     "output_type": "stream",
     "text": [
      "acc: 0.7724\n"
     ]
    },
    {
     "name": "stderr",
     "output_type": "stream",
     "text": [
      "\n"
     ]
    }
   ],
   "source": [
    "q_base_model.eval()\n",
    "\n",
    "acc = []\n",
    "bar = tqdm.tqdm(test_loader)\n",
    "for x, label in bar:\n",
    "    x, label = x.cuda(), label.cuda()\n",
    "    y = q_base_model(x)\n",
    "    acc.extend((y.argmax(dim=1) == label).tolist())\n",
    "    bar.set_postfix({'acc':sum(acc) / len(acc)})\n",
    "print('acc:', sum(acc) / len(acc))"
   ]
  },
  {
   "cell_type": "code",
   "execution_count": null,
   "metadata": {},
   "outputs": [],
   "source": []
  },
  {
   "cell_type": "markdown",
   "metadata": {},
   "source": [
    "### 4-bit quantization"
   ]
  },
  {
   "cell_type": "code",
   "execution_count": null,
   "metadata": {},
   "outputs": [],
   "source": []
  },
  {
   "cell_type": "code",
   "execution_count": null,
   "metadata": {},
   "outputs": [],
   "source": []
  },
  {
   "cell_type": "code",
   "execution_count": null,
   "metadata": {
    "colab": {
     "background_save": true
    },
    "id": "LyHgG9l9e66Y"
   },
   "outputs": [],
   "source": []
  }
 ],
 "metadata": {
  "accelerator": "GPU",
  "colab": {
   "authorship_tag": "ABX9TyOh2T6Tj/G/RPl19+iwVusG",
   "collapsed_sections": [],
   "name": "CIFAR10.ipynb",
   "provenance": []
  },
  "kernelspec": {
   "display_name": "Python 3",
   "language": "python",
   "name": "python3"
  },
  "language_info": {
   "codemirror_mode": {
    "name": "ipython",
    "version": 3
   },
   "file_extension": ".py",
   "mimetype": "text/x-python",
   "name": "python",
   "nbconvert_exporter": "python",
   "pygments_lexer": "ipython3",
   "version": "3.7.12"
  },
  "toc": {
   "base_numbering": 1,
   "nav_menu": {},
   "number_sections": true,
   "sideBar": true,
   "skip_h1_title": false,
   "title_cell": "Table of Contents",
   "title_sidebar": "Contents",
   "toc_cell": false,
   "toc_position": {
    "height": "calc(100% - 180px)",
    "left": "10px",
    "top": "150px",
    "width": "302.4px"
   },
   "toc_section_display": true,
   "toc_window_display": true
  }
 },
 "nbformat": 4,
 "nbformat_minor": 1
}
