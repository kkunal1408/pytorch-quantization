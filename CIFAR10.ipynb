{
 "cells": [
  {
   "cell_type": "markdown",
   "metadata": {
    "id": "K9ILC73dI9G9"
   },
   "source": [
    "# Initialization"
   ]
  },
  {
   "cell_type": "markdown",
   "metadata": {
    "id": "is8dFihPJRmW"
   },
   "source": [
    "## Import Libraries"
   ]
  },
  {
   "cell_type": "code",
   "execution_count": 1,
   "metadata": {
    "ExecuteTime": {
     "end_time": "2021-12-13T07:22:45.354153Z",
     "start_time": "2021-12-13T07:22:44.293518Z"
    },
    "executionInfo": {
     "elapsed": 1256,
     "status": "ok",
     "timestamp": 1639339325481,
     "user": {
      "displayName": "Rifqi Luthfan",
      "photoUrl": "https://lh3.googleusercontent.com/a-/AOh14Gi6REDrzyVNDZl2VT9M3BzwlBYF_1Y_KHDREx_t=s64",
      "userId": "07442021322718158104"
     },
     "user_tz": 300
    },
    "id": "OYR89FOfI37J"
   },
   "outputs": [],
   "source": [
    "from __future__ import print_function\n",
    "import argparse\n",
    "import torch\n",
    "import torch.nn as nn\n",
    "import torch.nn.functional as F\n",
    "import torch.optim as optim\n",
    "import torchvision\n",
    "from torchvision import datasets, transforms\n"
   ]
  },
  {
   "cell_type": "code",
   "execution_count": 2,
   "metadata": {
    "ExecuteTime": {
     "end_time": "2021-12-13T07:22:45.361977Z",
     "start_time": "2021-12-13T07:22:45.356204Z"
    },
    "executionInfo": {
     "elapsed": 7,
     "status": "ok",
     "timestamp": 1639339325484,
     "user": {
      "displayName": "Rifqi Luthfan",
      "photoUrl": "https://lh3.googleusercontent.com/a-/AOh14Gi6REDrzyVNDZl2VT9M3BzwlBYF_1Y_KHDREx_t=s64",
      "userId": "07442021322718158104"
     },
     "user_tz": 300
    },
    "id": "PW9VU5jIJOeK"
   },
   "outputs": [],
   "source": [
    "from collections import namedtuple\n",
    "import tqdm"
   ]
  },
  {
   "cell_type": "code",
   "execution_count": 3,
   "metadata": {
    "ExecuteTime": {
     "end_time": "2021-12-13T07:22:45.969675Z",
     "start_time": "2021-12-13T07:22:45.363670Z"
    },
    "colab": {
     "base_uri": "https://localhost:8080/",
     "height": 36
    },
    "executionInfo": {
     "elapsed": 6,
     "status": "ok",
     "timestamp": 1639339325484,
     "user": {
      "displayName": "Rifqi Luthfan",
      "photoUrl": "https://lh3.googleusercontent.com/a-/AOh14Gi6REDrzyVNDZl2VT9M3BzwlBYF_1Y_KHDREx_t=s64",
      "userId": "07442021322718158104"
     },
     "user_tz": 300
    },
    "id": "EAFb1zouJO0h",
    "outputId": "4224118a-ac2f-4080-a8f1-190b7df4f375"
   },
   "outputs": [
    {
     "data": {
      "text/plain": [
       "'Tesla V100-SXM2-16GB'"
      ]
     },
     "execution_count": 3,
     "metadata": {},
     "output_type": "execute_result"
    }
   ],
   "source": [
    "# make sure GPU is being used \n",
    "torch.cuda.current_device() \n",
    "torch.cuda.device(0)\n",
    "torch.cuda.get_device_name(0)"
   ]
  },
  {
   "cell_type": "code",
   "execution_count": 4,
   "metadata": {
    "ExecuteTime": {
     "end_time": "2021-12-13T07:22:45.996647Z",
     "start_time": "2021-12-13T07:22:45.971766Z"
    }
   },
   "outputs": [],
   "source": [
    "# Notebook auto reloads code. (Ref: http://stackoverflow.com/questions/1907993/autoreload-of-modules-in-ipython)\n",
    "%load_ext autoreload\n",
    "%autoreload 2"
   ]
  },
  {
   "cell_type": "markdown",
   "metadata": {
    "id": "Jn0LWLskJToR"
   },
   "source": [
    "## Import Created Modules"
   ]
  },
  {
   "cell_type": "code",
   "execution_count": 5,
   "metadata": {
    "ExecuteTime": {
     "end_time": "2021-12-13T07:22:46.016241Z",
     "start_time": "2021-12-13T07:22:45.998075Z"
    },
    "id": "A9Df0-4YJV1H"
   },
   "outputs": [],
   "source": [
    "from quantization_functions import quant_aware_resnet_model\n",
    "from quantization_functions import post_training_quant_model\n",
    "from quantization_functions import train_loop"
   ]
  },
  {
   "cell_type": "markdown",
   "metadata": {
    "id": "AMMfGCwTLWsq"
   },
   "source": [
    "## Load Dataset"
   ]
  },
  {
   "cell_type": "code",
   "execution_count": 6,
   "metadata": {
    "ExecuteTime": {
     "end_time": "2021-12-13T07:22:46.852992Z",
     "start_time": "2021-12-13T07:22:46.836895Z"
    },
    "id": "b4-R5xIcLmdt"
   },
   "outputs": [],
   "source": [
    "BATCH_SIZE = 256\n",
    "TEST_BATCH_SIZE = 256\n",
    "N_CLASS = 10"
   ]
  },
  {
   "cell_type": "code",
   "execution_count": 7,
   "metadata": {
    "ExecuteTime": {
     "end_time": "2021-12-13T07:22:48.952343Z",
     "start_time": "2021-12-13T07:22:47.343423Z"
    },
    "colab": {
     "base_uri": "https://localhost:8080/"
    },
    "executionInfo": {
     "elapsed": 1962,
     "status": "ok",
     "timestamp": 1639008244643,
     "user": {
      "displayName": "Rifqi Luthfan",
      "photoUrl": "https://lh3.googleusercontent.com/a-/AOh14Gi6REDrzyVNDZl2VT9M3BzwlBYF_1Y_KHDREx_t=s64",
      "userId": "07442021322718158104"
     },
     "user_tz": 300
    },
    "id": "NOLdHAlGLWH-",
    "outputId": "5481f0d0-f207-474d-e7e7-2827e14233fa"
   },
   "outputs": [
    {
     "name": "stdout",
     "output_type": "stream",
     "text": [
      "Files already downloaded and verified\n",
      "Files already downloaded and verified\n"
     ]
    }
   ],
   "source": [
    "transform = transforms.Compose([\n",
    "    transforms.ToTensor(),\n",
    "    transforms.Normalize(\n",
    "        mean=[x / 255.0 for x in [125.3, 123.0, 113.9]],\n",
    "        std=[x / 255.0 for x in [63.0, 62.1, 66.7]],\n",
    "    )\n",
    "])\n",
    "    \n",
    "trainset = datasets.CIFAR10(root='./dataCifar', train=True, download=True, transform=transform)\n",
    "\n",
    "train_loader = torch.utils.data.DataLoader(trainset, batch_size=BATCH_SIZE, shuffle=True, num_workers=2)\n",
    "\n",
    "testset = datasets.CIFAR10(root='./dataCifar', train=False, download=True, transform=transform)\n",
    "\n",
    "test_loader = torch.utils.data.DataLoader(testset, batch_size=TEST_BATCH_SIZE, shuffle=False, num_workers=2)"
   ]
  },
  {
   "cell_type": "markdown",
   "metadata": {
    "id": "z378KmkPI8n2"
   },
   "source": [
    "# Models"
   ]
  },
  {
   "cell_type": "code",
   "execution_count": 8,
   "metadata": {
    "ExecuteTime": {
     "end_time": "2021-12-13T07:22:48.970548Z",
     "start_time": "2021-12-13T07:22:48.954782Z"
    },
    "id": "EM6H0tupNLeT"
   },
   "outputs": [],
   "source": [
    "N_EPOCH = 10"
   ]
  },
  {
   "cell_type": "markdown",
   "metadata": {
    "id": "XxyL_hxTNL6j"
   },
   "source": [
    "## Base model"
   ]
  },
  {
   "cell_type": "code",
   "execution_count": 9,
   "metadata": {
    "ExecuteTime": {
     "end_time": "2021-12-13T06:58:11.075418Z",
     "start_time": "2021-12-13T06:58:10.658203Z"
    },
    "id": "Wfw_BQo0fhPF"
   },
   "outputs": [],
   "source": [
    "base_model = torchvision.models.resnet50(pretrained=True)\n",
    "base_model.fc = nn.Linear(base_model.fc.in_features, N_CLASS) # Change top layer"
   ]
  },
  {
   "cell_type": "code",
   "execution_count": 10,
   "metadata": {
    "ExecuteTime": {
     "end_time": "2021-12-13T07:03:39.485384Z",
     "start_time": "2021-12-13T06:58:11.077570Z"
    },
    "colab": {
     "background_save": true,
     "base_uri": "https://localhost:8080/"
    },
    "id": "_fFaNnSSNXwv",
    "outputId": "afc949b1-8e19-4233-cc01-2074798aa750"
   },
   "outputs": [
    {
     "name": "stderr",
     "output_type": "stream",
     "text": [
      "train - epoch:  0: : 196it [00:29,  6.73it/s, loss=0.857]                       \n",
      "val - epoch:  0: : 40it [00:03, 12.85it/s, val_loss=0.6, train_loss=0.857, acc=0.799]                        \n",
      "train - epoch:  1: : 196it [00:29,  6.60it/s, loss=0.38]                        \n",
      "val - epoch:  1: : 40it [00:03, 13.20it/s, val_loss=0.519, train_loss=0.38, acc=0.825]                      \n",
      "train - epoch:  2: : 196it [00:29,  6.71it/s, loss=0.218]                       \n",
      "val - epoch:  2: : 40it [00:03, 12.13it/s, val_loss=0.572, train_loss=0.218, acc=0.828]                      \n",
      "train - epoch:  3: : 196it [00:28,  6.76it/s, loss=0.146]                       \n",
      "val - epoch:  3: : 40it [00:02, 13.53it/s, val_loss=0.607, train_loss=0.146, acc=0.837]                      \n",
      "train - epoch:  4: : 196it [00:29,  6.61it/s, loss=0.103]                        \n",
      "val - epoch:  4: : 40it [00:02, 13.65it/s, val_loss=0.666, train_loss=0.103, acc=0.834]                      \n",
      "train - epoch:  5: : 196it [00:29,  6.70it/s, loss=0.0829]                       \n",
      "val - epoch:  5: : 40it [00:03, 13.18it/s, val_loss=0.735, train_loss=0.0829, acc=0.832]                      \n",
      "train - epoch:  6: : 196it [00:29,  6.67it/s, loss=0.0655]                       \n",
      "val - epoch:  6: : 40it [00:02, 13.81it/s, val_loss=0.666, train_loss=0.0655, acc=0.842]                      \n",
      "train - epoch:  7: : 196it [00:28,  6.86it/s, loss=0.0504]                       \n",
      "val - epoch:  7: : 40it [00:02, 13.87it/s, val_loss=0.742, train_loss=0.0504, acc=0.838]                      \n",
      "train - epoch:  8: : 196it [00:29,  6.69it/s, loss=0.0488]                       \n",
      "val - epoch:  8: : 40it [00:03, 13.25it/s, val_loss=0.762, train_loss=0.0488, acc=0.835]                      \n",
      "train - epoch:  9: : 196it [00:29,  6.63it/s, loss=0.0414]                       \n",
      "val - epoch:  9: : 40it [00:03, 11.30it/s, val_loss=0.716, train_loss=0.0414, acc=0.842]                      \n"
     ]
    }
   ],
   "source": [
    "### Train Loop\n",
    "criterion = nn.CrossEntropyLoss()\n",
    "optimizer = torch.optim.SGD(base_model.parameters(), 1e-2, momentum=0.9, weight_decay=1e-5)\n",
    "\n",
    "train_loop.train_model(\n",
    "    train_dl=train_loader, \n",
    "    val_dl=test_loader, \n",
    "    model=base_model, \n",
    "    optimizer=optimizer, \n",
    "    criterion=criterion,\n",
    "    clip_value=1e-2,\n",
    "    epochs=N_EPOCH, save='checkpoint/base_model2'\n",
    ")"
   ]
  },
  {
   "cell_type": "code",
   "execution_count": 11,
   "metadata": {
    "ExecuteTime": {
     "end_time": "2021-12-13T07:04:00.726075Z",
     "start_time": "2021-12-13T07:03:57.583876Z"
    },
    "colab": {
     "background_save": true
    },
    "id": "aJyLHCM8bBFH",
    "outputId": "a99eb48f-4de7-4dbd-9fda-3a610e181b24"
   },
   "outputs": [
    {
     "name": "stderr",
     "output_type": "stream",
     "text": [
      "100%|██████████| 40/40 [00:03<00:00, 12.85it/s, acc=0.842]"
     ]
    },
    {
     "name": "stdout",
     "output_type": "stream",
     "text": [
      "acc: 0.842\n"
     ]
    },
    {
     "name": "stderr",
     "output_type": "stream",
     "text": [
      "\n"
     ]
    }
   ],
   "source": [
    "base_model.eval()\n",
    "\n",
    "acc = []\n",
    "bar = tqdm.tqdm(test_loader)\n",
    "for x, label in bar:\n",
    "    x, label = x.cuda(), label.cuda()\n",
    "    y = base_model(x)\n",
    "    acc.extend((y.argmax(dim=1) == label).tolist())\n",
    "    bar.set_postfix({'acc':sum(acc) / len(acc)})\n",
    "print('acc:', sum(acc) / len(acc))"
   ]
  },
  {
   "cell_type": "markdown",
   "metadata": {
    "id": "o8y6NZlHQYZH"
   },
   "source": [
    "## Post Training Quantization"
   ]
  },
  {
   "cell_type": "markdown",
   "metadata": {
    "id": "frTh5sWvmCXA"
   },
   "source": [
    "### 8 bit quantization"
   ]
  },
  {
   "cell_type": "code",
   "execution_count": 9,
   "metadata": {
    "ExecuteTime": {
     "end_time": "2021-12-13T07:22:54.521154Z",
     "start_time": "2021-12-13T07:22:51.659338Z"
    },
    "colab": {
     "base_uri": "https://localhost:8080/"
    },
    "executionInfo": {
     "elapsed": 276,
     "status": "ok",
     "timestamp": 1639008821078,
     "user": {
      "displayName": "Rifqi Luthfan",
      "photoUrl": "https://lh3.googleusercontent.com/a-/AOh14Gi6REDrzyVNDZl2VT9M3BzwlBYF_1Y_KHDREx_t=s64",
      "userId": "07442021322718158104"
     },
     "user_tz": 300
    },
    "id": "GL29AUmrR3Vf",
    "outputId": "edc37568-38c8-45df-94b2-88d16b092703"
   },
   "outputs": [
    {
     "name": "stdout",
     "output_type": "stream",
     "text": [
      "remained state dict odict_keys([])\n"
     ]
    }
   ],
   "source": [
    "# Convert base model to a custom quantization layer with the trained weights\n",
    "c_base_model = quant_aware_resnet_model.CResnet50(num_class=10, q_num_bit=8, \n",
    "                                                  pretrained='checkpoint/base_model2/model_weights.pt')\n",
    "c_base_model.quantize(True)"
   ]
  },
  {
   "cell_type": "code",
   "execution_count": 10,
   "metadata": {
    "ExecuteTime": {
     "end_time": "2021-12-13T07:23:42.376404Z",
     "start_time": "2021-12-13T07:22:55.333598Z"
    },
    "colab": {
     "base_uri": "https://localhost:8080/"
    },
    "executionInfo": {
     "elapsed": 109704,
     "status": "ok",
     "timestamp": 1639008945820,
     "user": {
      "displayName": "Rifqi Luthfan",
      "photoUrl": "https://lh3.googleusercontent.com/a-/AOh14Gi6REDrzyVNDZl2VT9M3BzwlBYF_1Y_KHDREx_t=s64",
      "userId": "07442021322718158104"
     },
     "user_tz": 300
    },
    "id": "piIpEik6S1kR",
    "outputId": "a3441a92-e8a4-4dee-f98a-a7362d7495eb"
   },
   "outputs": [
    {
     "name": "stderr",
     "output_type": "stream",
     "text": [
      "train - epoch:  0: : 196it [00:41,  4.76it/s, loss=0.818]                       \n",
      "val - epoch:  0: : 40it [00:04,  8.24it/s, val_loss=0.712, train_loss=0.818, acc=0.752]                      \n"
     ]
    }
   ],
   "source": [
    "# Forward pass to have quantized weights\n",
    "criterion = nn.CrossEntropyLoss()\n",
    "optimizer = torch.optim.SGD(c_base_model.parameters(), 1e-2, momentum=0.9, weight_decay=1e-5)\n",
    "\n",
    "train_loop.train_model(\n",
    "    train_dl=train_loader, \n",
    "    val_dl=test_loader, \n",
    "    model=c_base_model, \n",
    "    optimizer=optimizer, \n",
    "    criterion=criterion,\n",
    "    clip_value=1e-2,\n",
    "    epochs=1, save='checkpoint/ptq8bit'\n",
    ")"
   ]
  },
  {
   "cell_type": "code",
   "execution_count": 11,
   "metadata": {
    "ExecuteTime": {
     "end_time": "2021-12-13T07:23:43.099416Z",
     "start_time": "2021-12-13T07:23:43.038551Z"
    },
    "id": "aoISQcR-PuoY"
   },
   "outputs": [],
   "source": [
    "# Convert to quantized model\n",
    "q_base_model = post_training_quant_model.QResnet50(num_class=10)\n",
    "q_base_model.convert_from(c_base_model)"
   ]
  },
  {
   "cell_type": "code",
   "execution_count": 12,
   "metadata": {
    "ExecuteTime": {
     "end_time": "2021-12-13T07:23:48.581708Z",
     "start_time": "2021-12-13T07:23:43.712244Z"
    },
    "colab": {
     "base_uri": "https://localhost:8080/"
    },
    "executionInfo": {
     "elapsed": 6937,
     "status": "ok",
     "timestamp": 1639008967545,
     "user": {
      "displayName": "Rifqi Luthfan",
      "photoUrl": "https://lh3.googleusercontent.com/a-/AOh14Gi6REDrzyVNDZl2VT9M3BzwlBYF_1Y_KHDREx_t=s64",
      "userId": "07442021322718158104"
     },
     "user_tz": 300
    },
    "id": "K1vVMgjqQbUF",
    "outputId": "0b625bf7-9840-4e65-bef6-315fa33cca8e"
   },
   "outputs": [
    {
     "name": "stderr",
     "output_type": "stream",
     "text": [
      "100%|██████████| 40/40 [00:04<00:00,  8.26it/s, acc=0.754]"
     ]
    },
    {
     "name": "stdout",
     "output_type": "stream",
     "text": [
      "acc: 0.7538\n"
     ]
    },
    {
     "name": "stderr",
     "output_type": "stream",
     "text": [
      "\n"
     ]
    }
   ],
   "source": [
    "# Validation accuracy\n",
    "q_base_model.eval()\n",
    "\n",
    "acc = []\n",
    "bar = tqdm.tqdm(test_loader)\n",
    "for x, label in bar:\n",
    "    x, label = x.cuda(), label.cuda()\n",
    "    y = q_base_model(x)\n",
    "    acc.extend((y.argmax(dim=1) == label).tolist())\n",
    "    bar.set_postfix({'acc':sum(acc) / len(acc)})\n",
    "print('acc:', sum(acc) / len(acc))"
   ]
  },
  {
   "cell_type": "code",
   "execution_count": 13,
   "metadata": {
    "ExecuteTime": {
     "end_time": "2021-12-13T07:23:48.744251Z",
     "start_time": "2021-12-13T07:23:48.584599Z"
    }
   },
   "outputs": [],
   "source": [
    "with open('checkpoint/ptq8bit/model_weights_quantized.pt', 'wb') as f:\n",
    "    torch.save(q_base_model.state_dict(), f)"
   ]
  },
  {
   "cell_type": "markdown",
   "metadata": {},
   "source": [
    "### 4-bit quantization"
   ]
  },
  {
   "cell_type": "code",
   "execution_count": 14,
   "metadata": {
    "ExecuteTime": {
     "end_time": "2021-12-13T07:23:51.664653Z",
     "start_time": "2021-12-13T07:23:51.328779Z"
    }
   },
   "outputs": [
    {
     "name": "stdout",
     "output_type": "stream",
     "text": [
      "remained state dict odict_keys([])\n"
     ]
    }
   ],
   "source": [
    "# Convert base model to a custom quantization layer with the trained weights\n",
    "c_base_model = quant_aware_resnet_model.CResnet50(num_class=10, q_num_bit=4, \n",
    "                                                  pretrained='checkpoint/base_model2/model_weights.pt')\n",
    "c_base_model.quantize(True)"
   ]
  },
  {
   "cell_type": "code",
   "execution_count": 15,
   "metadata": {
    "ExecuteTime": {
     "end_time": "2021-12-13T07:24:38.889329Z",
     "start_time": "2021-12-13T07:23:51.667119Z"
    },
    "scrolled": true
   },
   "outputs": [
    {
     "name": "stderr",
     "output_type": "stream",
     "text": [
      "train - epoch:  0: : 196it [00:41,  4.76it/s, loss=2.89]                       \n",
      "val - epoch:  0: : 40it [00:05,  7.71it/s, val_loss=2.99, train_loss=2.89, acc=0.114]                      \n"
     ]
    }
   ],
   "source": [
    "# Forward pass to have quantized weights\n",
    "criterion = nn.CrossEntropyLoss()\n",
    "optimizer = torch.optim.SGD(c_base_model.parameters(), 1e-4, momentum=0.9, weight_decay=1e-5)\n",
    "\n",
    "train_loop.train_model(\n",
    "    train_dl=train_loader, \n",
    "    val_dl=test_loader, \n",
    "    model=c_base_model, \n",
    "    optimizer=optimizer, \n",
    "    criterion=criterion,\n",
    "    clip_value=1e-2,\n",
    "    epochs=1, save='checkpoint/ptq4bit'\n",
    ")"
   ]
  },
  {
   "cell_type": "code",
   "execution_count": 16,
   "metadata": {
    "ExecuteTime": {
     "end_time": "2021-12-13T07:24:38.955098Z",
     "start_time": "2021-12-13T07:24:38.892398Z"
    }
   },
   "outputs": [],
   "source": [
    "# Convert to quantized model\n",
    "q_base_model = post_training_quant_model.QResnet50(num_class=10)\n",
    "q_base_model.convert_from(c_base_model)"
   ]
  },
  {
   "cell_type": "code",
   "execution_count": 17,
   "metadata": {
    "ExecuteTime": {
     "end_time": "2021-12-13T07:24:44.098367Z",
     "start_time": "2021-12-13T07:24:38.956972Z"
    }
   },
   "outputs": [
    {
     "name": "stderr",
     "output_type": "stream",
     "text": [
      "100%|██████████| 40/40 [00:05<00:00,  7.99it/s, acc=0.127]"
     ]
    },
    {
     "name": "stdout",
     "output_type": "stream",
     "text": [
      "acc: 0.1266\n"
     ]
    },
    {
     "name": "stderr",
     "output_type": "stream",
     "text": [
      "\n"
     ]
    }
   ],
   "source": [
    "# Validation accuracy\n",
    "q_base_model.eval()\n",
    "\n",
    "acc = []\n",
    "bar = tqdm.tqdm(test_loader)\n",
    "for x, label in bar:\n",
    "    x, label = x.cuda(), label.cuda()\n",
    "    y = q_base_model(x)\n",
    "    acc.extend((y.argmax(dim=1) == label).tolist())\n",
    "    bar.set_postfix({'acc':sum(acc) / len(acc)})\n",
    "print('acc:', sum(acc) / len(acc))"
   ]
  },
  {
   "cell_type": "code",
   "execution_count": 18,
   "metadata": {
    "ExecuteTime": {
     "end_time": "2021-12-13T07:24:44.243736Z",
     "start_time": "2021-12-13T07:24:44.101286Z"
    }
   },
   "outputs": [],
   "source": [
    "with open('checkpoint/ptq4bit/model_weights_quantized.pt', 'wb') as f:\n",
    "    torch.save(q_base_model.state_dict(), f)"
   ]
  },
  {
   "cell_type": "code",
   "execution_count": null,
   "metadata": {},
   "outputs": [],
   "source": []
  },
  {
   "cell_type": "markdown",
   "metadata": {
    "id": "mmpG9_9PO8E5"
   },
   "source": [
    "## Quantization Aware Training"
   ]
  },
  {
   "cell_type": "markdown",
   "metadata": {
    "id": "4PRbWTsmmRhL"
   },
   "source": [
    "### 8-bit quantization"
   ]
  },
  {
   "cell_type": "code",
   "execution_count": 22,
   "metadata": {
    "ExecuteTime": {
     "end_time": "2021-12-13T07:07:01.064082Z",
     "start_time": "2021-12-13T07:07:00.266869Z"
    },
    "colab": {
     "base_uri": "https://localhost:8080/"
    },
    "executionInfo": {
     "elapsed": 872,
     "status": "ok",
     "timestamp": 1639008986864,
     "user": {
      "displayName": "Rifqi Luthfan",
      "photoUrl": "https://lh3.googleusercontent.com/a-/AOh14Gi6REDrzyVNDZl2VT9M3BzwlBYF_1Y_KHDREx_t=s64",
      "userId": "07442021322718158104"
     },
     "user_tz": 300
    },
    "id": "oB6gK6MUO98Z",
    "outputId": "41b3ce18-cba3-4bee-e1f0-8c79f4e48292"
   },
   "outputs": [
    {
     "name": "stdout",
     "output_type": "stream",
     "text": [
      "remained state dict odict_keys(['fc.weight', 'fc.bias'])\n"
     ]
    }
   ],
   "source": [
    "# Create model with custom quantization layer from the start\n",
    "c_base_model = quant_aware_resnet_model.CResnet50(num_class=10, q_num_bit=8, pretrained=True)\n",
    "c_base_model.quantize(True)"
   ]
  },
  {
   "cell_type": "code",
   "execution_count": 23,
   "metadata": {
    "ExecuteTime": {
     "end_time": "2021-12-13T07:14:38.586915Z",
     "start_time": "2021-12-13T07:07:01.066343Z"
    },
    "colab": {
     "base_uri": "https://localhost:8080/"
    },
    "executionInfo": {
     "elapsed": 331716,
     "status": "ok",
     "timestamp": 1639009319891,
     "user": {
      "displayName": "Rifqi Luthfan",
      "photoUrl": "https://lh3.googleusercontent.com/a-/AOh14Gi6REDrzyVNDZl2VT9M3BzwlBYF_1Y_KHDREx_t=s64",
      "userId": "07442021322718158104"
     },
     "user_tz": 300
    },
    "id": "QJFoGEjZNTkA",
    "outputId": "9973e40d-0a42-499a-d085-8f2746212eef"
   },
   "outputs": [
    {
     "name": "stderr",
     "output_type": "stream",
     "text": [
      "train - epoch:  0: : 196it [00:41,  4.74it/s, loss=1.22]                       \n",
      "val - epoch:  0: : 40it [00:04,  8.23it/s, val_loss=0.864, train_loss=1.22, acc=0.707]                      \n",
      "train - epoch:  1: : 196it [00:41,  4.77it/s, loss=0.767]                       \n",
      "val - epoch:  1: : 40it [00:04,  8.82it/s, val_loss=0.761, train_loss=0.767, acc=0.734]                      \n",
      "train - epoch:  2: : 196it [00:41,  4.73it/s, loss=0.645]                       \n",
      "val - epoch:  2: : 40it [00:04,  8.29it/s, val_loss=0.824, train_loss=0.645, acc=0.733]                      \n",
      "train - epoch:  3: : 196it [00:40,  4.86it/s, loss=0.547]                       \n",
      "val - epoch:  3: : 40it [00:04,  8.02it/s, val_loss=0.675, train_loss=0.547, acc=0.778]                      \n",
      "train - epoch:  4: : 196it [00:39,  4.97it/s, loss=0.465]                       \n",
      "val - epoch:  4: : 40it [00:04,  8.90it/s, val_loss=0.696, train_loss=0.465, acc=0.779]                      \n",
      "train - epoch:  5: : 196it [00:41,  4.78it/s, loss=0.419]                       \n",
      "val - epoch:  5: : 40it [00:04,  8.33it/s, val_loss=0.725, train_loss=0.419, acc=0.787]                      \n",
      "train - epoch:  6: : 196it [00:40,  4.84it/s, loss=0.382]                       \n",
      "val - epoch:  6: : 40it [00:04,  8.82it/s, val_loss=0.668, train_loss=0.382, acc=0.79]                       \n",
      "train - epoch:  7: : 196it [00:39,  4.93it/s, loss=0.327]                       \n",
      "val - epoch:  7: : 40it [00:04,  8.73it/s, val_loss=0.732, train_loss=0.327, acc=0.777]                      \n",
      "train - epoch:  8: : 196it [00:39,  4.93it/s, loss=0.334]                       \n",
      "val - epoch:  8: : 40it [00:04,  8.75it/s, val_loss=0.734, train_loss=0.334, acc=0.776]                      \n",
      "train - epoch:  9: : 196it [00:41,  4.77it/s, loss=0.314]                       \n",
      "val - epoch:  9: : 40it [00:04,  8.40it/s, val_loss=0.82, train_loss=0.314, acc=0.789]                       \n"
     ]
    }
   ],
   "source": [
    "# Training Loop\n",
    "criterion = nn.CrossEntropyLoss()\n",
    "optimizer = torch.optim.SGD(c_base_model.parameters(), 1e-2, momentum=0.9, weight_decay=1e-5)\n",
    "\n",
    "train_loop.train_model(\n",
    "    train_dl=train_loader, \n",
    "    val_dl=test_loader, \n",
    "    model=c_base_model, \n",
    "    optimizer=optimizer, \n",
    "    criterion=criterion,\n",
    "    clip_value=1e-2,\n",
    "    epochs=N_EPOCH, save='checkpoint/qat8bit'\n",
    ")"
   ]
  },
  {
   "cell_type": "code",
   "execution_count": 24,
   "metadata": {
    "ExecuteTime": {
     "end_time": "2021-12-13T07:14:38.650342Z",
     "start_time": "2021-12-13T07:14:38.589233Z"
    },
    "id": "muNQF34RWwZ6"
   },
   "outputs": [],
   "source": [
    "# Convert to quantized model\n",
    "q_base_model = post_training_quant_model.QResnet50(num_class=10)\n",
    "q_base_model.convert_from(c_base_model)"
   ]
  },
  {
   "cell_type": "code",
   "execution_count": 25,
   "metadata": {
    "ExecuteTime": {
     "end_time": "2021-12-13T07:14:43.539045Z",
     "start_time": "2021-12-13T07:14:38.652240Z"
    },
    "colab": {
     "base_uri": "https://localhost:8080/"
    },
    "executionInfo": {
     "elapsed": 6681,
     "status": "ok",
     "timestamp": 1639009326731,
     "user": {
      "displayName": "Rifqi Luthfan",
      "photoUrl": "https://lh3.googleusercontent.com/a-/AOh14Gi6REDrzyVNDZl2VT9M3BzwlBYF_1Y_KHDREx_t=s64",
      "userId": "07442021322718158104"
     },
     "user_tz": 300
    },
    "id": "UPl1MlvHJHOY",
    "outputId": "8fd185d3-fcd2-4124-e81e-ec5f23efad93"
   },
   "outputs": [
    {
     "name": "stderr",
     "output_type": "stream",
     "text": [
      "100%|██████████| 40/40 [00:04<00:00,  8.23it/s, acc=0.79] "
     ]
    },
    {
     "name": "stdout",
     "output_type": "stream",
     "text": [
      "acc: 0.7905\n"
     ]
    },
    {
     "name": "stderr",
     "output_type": "stream",
     "text": [
      "\n"
     ]
    }
   ],
   "source": [
    "# Validation accuracy\n",
    "q_base_model.eval()\n",
    "\n",
    "acc = []\n",
    "bar = tqdm.tqdm(test_loader)\n",
    "for x, label in bar:\n",
    "    x, label = x.cuda(), label.cuda()\n",
    "    y = q_base_model(x)\n",
    "    acc.extend((y.argmax(dim=1) == label).tolist())\n",
    "    bar.set_postfix({'acc':sum(acc) / len(acc)})\n",
    "print('acc:', sum(acc) / len(acc))"
   ]
  },
  {
   "cell_type": "code",
   "execution_count": 26,
   "metadata": {
    "ExecuteTime": {
     "end_time": "2021-12-13T07:14:43.625698Z",
     "start_time": "2021-12-13T07:14:43.541791Z"
    }
   },
   "outputs": [],
   "source": [
    "with open('checkpoint/qat8bit/model_weights_quantized.pt', 'wb') as f:\n",
    "    torch.save(q_base_model.state_dict(), f)"
   ]
  },
  {
   "cell_type": "markdown",
   "metadata": {},
   "source": [
    "### 4-bit quantization"
   ]
  },
  {
   "cell_type": "code",
   "execution_count": 27,
   "metadata": {
    "ExecuteTime": {
     "end_time": "2021-12-13T07:14:44.313183Z",
     "start_time": "2021-12-13T07:14:43.628460Z"
    }
   },
   "outputs": [
    {
     "name": "stdout",
     "output_type": "stream",
     "text": [
      "remained state dict odict_keys(['fc.weight', 'fc.bias'])\n"
     ]
    }
   ],
   "source": [
    "# Create model with custom quantization layer from the start\n",
    "c_base_model = quant_aware_resnet_model.CResnet50(num_class=10, q_num_bit=4, pretrained=True)\n",
    "c_base_model.quantize(True)"
   ]
  },
  {
   "cell_type": "code",
   "execution_count": 28,
   "metadata": {
    "ExecuteTime": {
     "end_time": "2021-12-13T07:22:22.839611Z",
     "start_time": "2021-12-13T07:14:44.315443Z"
    }
   },
   "outputs": [
    {
     "name": "stderr",
     "output_type": "stream",
     "text": [
      "train - epoch:  0: : 196it [00:40,  4.80it/s, loss=6.51]                       \n",
      "val - epoch:  0: : 40it [00:04,  8.26it/s, val_loss=5.39, train_loss=6.51, acc=0.0989]                      \n",
      "train - epoch:  1: : 196it [00:41,  4.76it/s, loss=4.87]                       \n",
      "val - epoch:  1: : 40it [00:04,  8.47it/s, val_loss=4.46, train_loss=4.87, acc=0.102]                       \n",
      "train - epoch:  2: : 196it [00:40,  4.82it/s, loss=4.23]                       \n",
      "val - epoch:  2: : 40it [00:04,  8.42it/s, val_loss=4.07, train_loss=4.23, acc=0.1]                         \n",
      "train - epoch:  3: : 196it [00:40,  4.86it/s, loss=3.94]                       \n",
      "val - epoch:  3: : 40it [00:04,  8.68it/s, val_loss=4.12, train_loss=3.94, acc=0.0991]                      \n",
      "train - epoch:  4: : 196it [00:39,  4.91it/s, loss=3.21]                       \n",
      "val - epoch:  4: : 40it [00:04,  8.86it/s, val_loss=2.98, train_loss=3.21, acc=0.102]                       \n",
      "train - epoch:  5: : 196it [00:39,  4.93it/s, loss=2.94]                       \n",
      "val - epoch:  5: : 40it [00:04,  8.48it/s, val_loss=2.88, train_loss=2.94, acc=0.104]                      \n",
      "train - epoch:  6: : 196it [00:40,  4.85it/s, loss=2.82]                       \n",
      "val - epoch:  6: : 40it [00:04,  8.37it/s, val_loss=2.75, train_loss=2.82, acc=0.103]                      \n",
      "train - epoch:  7: : 196it [00:39,  4.91it/s, loss=2.7]                        \n",
      "val - epoch:  7: : 40it [00:04,  8.86it/s, val_loss=2.68, train_loss=2.7, acc=0.098]                       \n",
      "train - epoch:  8: : 196it [00:39,  4.94it/s, loss=2.55]                       \n",
      "val - epoch:  8: : 40it [00:04,  8.35it/s, val_loss=2.51, train_loss=2.55, acc=0.0989]                      \n",
      "train - epoch:  9: : 196it [00:40,  4.84it/s, loss=2.49]                       \n",
      "val - epoch:  9: : 40it [00:04,  8.46it/s, val_loss=2.47, train_loss=2.49, acc=0.1]                         \n"
     ]
    }
   ],
   "source": [
    "# Training Loop\n",
    "criterion = nn.CrossEntropyLoss()\n",
    "optimizer = torch.optim.SGD(c_base_model.parameters(), 1e-4, momentum=0.9, weight_decay=1e-5)\n",
    "\n",
    "train_loop.train_model(\n",
    "    train_dl=train_loader, \n",
    "    val_dl=test_loader, \n",
    "    model=c_base_model, \n",
    "    optimizer=optimizer, \n",
    "    criterion=criterion,\n",
    "    clip_value=1e-2,\n",
    "    epochs=N_EPOCH, save='checkpoint/qat4bit'\n",
    ")"
   ]
  },
  {
   "cell_type": "code",
   "execution_count": 29,
   "metadata": {
    "ExecuteTime": {
     "end_time": "2021-12-13T07:22:22.902345Z",
     "start_time": "2021-12-13T07:22:22.841936Z"
    }
   },
   "outputs": [],
   "source": [
    "# Convert to quantized model\n",
    "q_base_model = post_training_quant_model.QResnet50(num_class=10)\n",
    "q_base_model.convert_from(c_base_model)"
   ]
  },
  {
   "cell_type": "code",
   "execution_count": 30,
   "metadata": {
    "ExecuteTime": {
     "end_time": "2021-12-13T07:22:27.672061Z",
     "start_time": "2021-12-13T07:22:22.903998Z"
    }
   },
   "outputs": [
    {
     "name": "stderr",
     "output_type": "stream",
     "text": [
      "100%|██████████| 40/40 [00:04<00:00,  8.44it/s, acc=0.101] "
     ]
    },
    {
     "name": "stdout",
     "output_type": "stream",
     "text": [
      "acc: 0.1013\n"
     ]
    },
    {
     "name": "stderr",
     "output_type": "stream",
     "text": [
      "\n"
     ]
    }
   ],
   "source": [
    "# Validation accuracy\n",
    "q_base_model.eval()\n",
    "\n",
    "acc = []\n",
    "bar = tqdm.tqdm(test_loader)\n",
    "for x, label in bar:\n",
    "    x, label = x.cuda(), label.cuda()\n",
    "    y = q_base_model(x)\n",
    "    acc.extend((y.argmax(dim=1) == label).tolist())\n",
    "    bar.set_postfix({'acc':sum(acc) / len(acc)})\n",
    "print('acc:', sum(acc) / len(acc))"
   ]
  },
  {
   "cell_type": "code",
   "execution_count": 31,
   "metadata": {
    "ExecuteTime": {
     "end_time": "2021-12-13T07:22:27.845228Z",
     "start_time": "2021-12-13T07:22:27.673845Z"
    }
   },
   "outputs": [],
   "source": [
    "with open('checkpoint/qat4bit/model_weights_quantized.pt', 'wb') as f:\n",
    "    torch.save(q_base_model.state_dict(), f)"
   ]
  },
  {
   "cell_type": "code",
   "execution_count": null,
   "metadata": {},
   "outputs": [],
   "source": []
  },
  {
   "cell_type": "code",
   "execution_count": null,
   "metadata": {},
   "outputs": [],
   "source": []
  }
 ],
 "metadata": {
  "accelerator": "GPU",
  "colab": {
   "authorship_tag": "ABX9TyOh2T6Tj/G/RPl19+iwVusG",
   "collapsed_sections": [],
   "name": "CIFAR10.ipynb",
   "provenance": []
  },
  "kernelspec": {
   "display_name": "Python 3",
   "language": "python",
   "name": "python3"
  },
  "language_info": {
   "codemirror_mode": {
    "name": "ipython",
    "version": 3
   },
   "file_extension": ".py",
   "mimetype": "text/x-python",
   "name": "python",
   "nbconvert_exporter": "python",
   "pygments_lexer": "ipython3",
   "version": "3.7.12"
  },
  "toc": {
   "base_numbering": 1,
   "nav_menu": {},
   "number_sections": true,
   "sideBar": true,
   "skip_h1_title": false,
   "title_cell": "Table of Contents",
   "title_sidebar": "Contents",
   "toc_cell": false,
   "toc_position": {
    "height": "calc(100% - 180px)",
    "left": "10px",
    "top": "150px",
    "width": "302.4px"
   },
   "toc_section_display": true,
   "toc_window_display": true
  }
 },
 "nbformat": 4,
 "nbformat_minor": 1
}
